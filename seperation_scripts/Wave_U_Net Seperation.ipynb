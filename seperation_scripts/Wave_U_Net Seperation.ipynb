{
  "nbformat": 4,
  "nbformat_minor": 0,
  "metadata": {
    "colab": {
      "provenance": []
    },
    "kernelspec": {
      "name": "python3",
      "display_name": "Python 3"
    },
    "language_info": {
      "name": "python"
    }
  },
  "cells": [
    {
      "cell_type": "code",
      "execution_count": null,
      "metadata": {
        "colab": {
          "base_uri": "https://localhost:8080/"
        },
        "id": "Bk9wWsm2VJ29",
        "outputId": "dc098497-5814-4f59-92c2-d9c12a2d3bd3"
      },
      "outputs": [
        {
          "output_type": "stream",
          "name": "stdout",
          "text": [
            "Requirement already satisfied: soundfile in /usr/local/lib/python3.10/dist-packages (0.12.1)\n",
            "Requirement already satisfied: cffi>=1.0 in /usr/local/lib/python3.10/dist-packages (from soundfile) (1.16.0)\n",
            "Requirement already satisfied: pycparser in /usr/local/lib/python3.10/dist-packages (from cffi>=1.0->soundfile) (2.22)\n",
            "Collecting ffmpeg\n",
            "  Downloading ffmpeg-1.4.tar.gz (5.1 kB)\n",
            "  Preparing metadata (setup.py) ... \u001b[?25l\u001b[?25hdone\n",
            "Building wheels for collected packages: ffmpeg\n",
            "  Building wheel for ffmpeg (setup.py) ... \u001b[?25l\u001b[?25hdone\n",
            "  Created wheel for ffmpeg: filename=ffmpeg-1.4-py3-none-any.whl size=6082 sha256=567957c4d15c4a7b0b7a63d3119188d4046b2a8ed46d2540af75ecb9cb8a5e7f\n",
            "  Stored in directory: /root/.cache/pip/wheels/8e/7a/69/cd6aeb83b126a7f04cbe7c9d929028dc52a6e7d525ff56003a\n",
            "Successfully built ffmpeg\n",
            "Installing collected packages: ffmpeg\n",
            "Successfully installed ffmpeg-1.4\n"
          ]
        }
      ],
      "source": [
        "!pip install soundfile\n",
        "!pip install ffmpeg"
      ]
    },
    {
      "cell_type": "code",
      "source": [
        "!pip install -r /content/drive/MyDrive/audio_stemming/WUN/requirements.txt"
      ],
      "metadata": {
        "colab": {
          "base_uri": "https://localhost:8080/"
        },
        "id": "AmvkKhLeWmKr",
        "outputId": "e8059e5e-355f-4719-94be-dfdc1180b542",
        "collapsed": true
      },
      "execution_count": null,
      "outputs": [
        {
          "output_type": "stream",
          "name": "stdout",
          "text": [
            "Requirement already satisfied: future in /usr/local/lib/python3.10/dist-packages (from -r /content/drive/MyDrive/audio_stemming/WUN/requirements.txt (line 1)) (0.18.3)\n",
            "Requirement already satisfied: numpy in /usr/local/lib/python3.10/dist-packages (from -r /content/drive/MyDrive/audio_stemming/WUN/requirements.txt (line 2)) (1.25.2)\n",
            "Requirement already satisfied: librosa in /usr/local/lib/python3.10/dist-packages (from -r /content/drive/MyDrive/audio_stemming/WUN/requirements.txt (line 3)) (0.10.2.post1)\n",
            "Requirement already satisfied: soundfile in /usr/local/lib/python3.10/dist-packages (from -r /content/drive/MyDrive/audio_stemming/WUN/requirements.txt (line 4)) (0.12.1)\n",
            "Collecting musdb (from -r /content/drive/MyDrive/audio_stemming/WUN/requirements.txt (line 5))\n",
            "  Downloading musdb-0.4.2-py2.py3-none-any.whl (13 kB)\n",
            "Collecting museval (from -r /content/drive/MyDrive/audio_stemming/WUN/requirements.txt (line 6))\n",
            "  Downloading museval-0.4.1-py2.py3-none-any.whl (20 kB)\n",
            "Requirement already satisfied: h5py in /usr/local/lib/python3.10/dist-packages (from -r /content/drive/MyDrive/audio_stemming/WUN/requirements.txt (line 7)) (3.9.0)\n",
            "Requirement already satisfied: tqdm in /usr/local/lib/python3.10/dist-packages (from -r /content/drive/MyDrive/audio_stemming/WUN/requirements.txt (line 8)) (4.66.4)\n",
            "Requirement already satisfied: torch in /usr/local/lib/python3.10/dist-packages (from -r /content/drive/MyDrive/audio_stemming/WUN/requirements.txt (line 9)) (2.3.0+cu121)\n",
            "Requirement already satisfied: torchvision in /usr/local/lib/python3.10/dist-packages (from -r /content/drive/MyDrive/audio_stemming/WUN/requirements.txt (line 10)) (0.18.0+cu121)\n",
            "Requirement already satisfied: tensorboard in /usr/local/lib/python3.10/dist-packages (from -r /content/drive/MyDrive/audio_stemming/WUN/requirements.txt (line 11)) (2.15.2)\n",
            "Requirement already satisfied: sortedcontainers in /usr/local/lib/python3.10/dist-packages (from -r /content/drive/MyDrive/audio_stemming/WUN/requirements.txt (line 12)) (2.4.0)\n",
            "Requirement already satisfied: audioread>=2.1.9 in /usr/local/lib/python3.10/dist-packages (from librosa->-r /content/drive/MyDrive/audio_stemming/WUN/requirements.txt (line 3)) (3.0.1)\n",
            "Requirement already satisfied: scipy>=1.2.0 in /usr/local/lib/python3.10/dist-packages (from librosa->-r /content/drive/MyDrive/audio_stemming/WUN/requirements.txt (line 3)) (1.11.4)\n",
            "Requirement already satisfied: scikit-learn>=0.20.0 in /usr/local/lib/python3.10/dist-packages (from librosa->-r /content/drive/MyDrive/audio_stemming/WUN/requirements.txt (line 3)) (1.2.2)\n",
            "Requirement already satisfied: joblib>=0.14 in /usr/local/lib/python3.10/dist-packages (from librosa->-r /content/drive/MyDrive/audio_stemming/WUN/requirements.txt (line 3)) (1.4.2)\n",
            "Requirement already satisfied: decorator>=4.3.0 in /usr/local/lib/python3.10/dist-packages (from librosa->-r /content/drive/MyDrive/audio_stemming/WUN/requirements.txt (line 3)) (4.4.2)\n",
            "Requirement already satisfied: numba>=0.51.0 in /usr/local/lib/python3.10/dist-packages (from librosa->-r /content/drive/MyDrive/audio_stemming/WUN/requirements.txt (line 3)) (0.58.1)\n",
            "Requirement already satisfied: pooch>=1.1 in /usr/local/lib/python3.10/dist-packages (from librosa->-r /content/drive/MyDrive/audio_stemming/WUN/requirements.txt (line 3)) (1.8.2)\n",
            "Requirement already satisfied: soxr>=0.3.2 in /usr/local/lib/python3.10/dist-packages (from librosa->-r /content/drive/MyDrive/audio_stemming/WUN/requirements.txt (line 3)) (0.3.7)\n",
            "Requirement already satisfied: typing-extensions>=4.1.1 in /usr/local/lib/python3.10/dist-packages (from librosa->-r /content/drive/MyDrive/audio_stemming/WUN/requirements.txt (line 3)) (4.12.2)\n",
            "Requirement already satisfied: lazy-loader>=0.1 in /usr/local/lib/python3.10/dist-packages (from librosa->-r /content/drive/MyDrive/audio_stemming/WUN/requirements.txt (line 3)) (0.4)\n",
            "Requirement already satisfied: msgpack>=1.0 in /usr/local/lib/python3.10/dist-packages (from librosa->-r /content/drive/MyDrive/audio_stemming/WUN/requirements.txt (line 3)) (1.0.8)\n",
            "Requirement already satisfied: cffi>=1.0 in /usr/local/lib/python3.10/dist-packages (from soundfile->-r /content/drive/MyDrive/audio_stemming/WUN/requirements.txt (line 4)) (1.16.0)\n",
            "Collecting stempeg>=0.2.3 (from musdb->-r /content/drive/MyDrive/audio_stemming/WUN/requirements.txt (line 5))\n",
            "  Downloading stempeg-0.2.3-py3-none-any.whl (963 kB)\n",
            "\u001b[2K     \u001b[90m━━━━━━━━━━━━━━━━━━━━━━━━━━━━━━━━━━━━━━━━\u001b[0m \u001b[32m963.5/963.5 kB\u001b[0m \u001b[31m3.0 MB/s\u001b[0m eta \u001b[36m0:00:00\u001b[0m\n",
            "\u001b[?25hCollecting pyaml (from musdb->-r /content/drive/MyDrive/audio_stemming/WUN/requirements.txt (line 5))\n",
            "  Downloading pyaml-24.4.0-py3-none-any.whl (24 kB)\n",
            "Requirement already satisfied: pandas>=1.0.1 in /usr/local/lib/python3.10/dist-packages (from museval->-r /content/drive/MyDrive/audio_stemming/WUN/requirements.txt (line 6)) (2.0.3)\n",
            "Collecting simplejson>=3.19.0 (from museval->-r /content/drive/MyDrive/audio_stemming/WUN/requirements.txt (line 6))\n",
            "  Downloading simplejson-3.19.2-cp310-cp310-manylinux_2_5_x86_64.manylinux1_x86_64.manylinux_2_17_x86_64.manylinux2014_x86_64.whl (137 kB)\n",
            "\u001b[2K     \u001b[90m━━━━━━━━━━━━━━━━━━━━━━━━━━━━━━━━━━━━━━━━\u001b[0m \u001b[32m137.9/137.9 kB\u001b[0m \u001b[31m3.0 MB/s\u001b[0m eta \u001b[36m0:00:00\u001b[0m\n",
            "\u001b[?25hRequirement already satisfied: jsonschema in /usr/local/lib/python3.10/dist-packages (from museval->-r /content/drive/MyDrive/audio_stemming/WUN/requirements.txt (line 6)) (4.19.2)\n",
            "Requirement already satisfied: filelock in /usr/local/lib/python3.10/dist-packages (from torch->-r /content/drive/MyDrive/audio_stemming/WUN/requirements.txt (line 9)) (3.15.4)\n",
            "Requirement already satisfied: sympy in /usr/local/lib/python3.10/dist-packages (from torch->-r /content/drive/MyDrive/audio_stemming/WUN/requirements.txt (line 9)) (1.12.1)\n",
            "Requirement already satisfied: networkx in /usr/local/lib/python3.10/dist-packages (from torch->-r /content/drive/MyDrive/audio_stemming/WUN/requirements.txt (line 9)) (3.3)\n",
            "Requirement already satisfied: jinja2 in /usr/local/lib/python3.10/dist-packages (from torch->-r /content/drive/MyDrive/audio_stemming/WUN/requirements.txt (line 9)) (3.1.4)\n",
            "Requirement already satisfied: fsspec in /usr/local/lib/python3.10/dist-packages (from torch->-r /content/drive/MyDrive/audio_stemming/WUN/requirements.txt (line 9)) (2023.6.0)\n",
            "Collecting nvidia-cuda-nvrtc-cu12==12.1.105 (from torch->-r /content/drive/MyDrive/audio_stemming/WUN/requirements.txt (line 9))\n",
            "  Using cached nvidia_cuda_nvrtc_cu12-12.1.105-py3-none-manylinux1_x86_64.whl (23.7 MB)\n",
            "Collecting nvidia-cuda-runtime-cu12==12.1.105 (from torch->-r /content/drive/MyDrive/audio_stemming/WUN/requirements.txt (line 9))\n",
            "  Using cached nvidia_cuda_runtime_cu12-12.1.105-py3-none-manylinux1_x86_64.whl (823 kB)\n",
            "Collecting nvidia-cuda-cupti-cu12==12.1.105 (from torch->-r /content/drive/MyDrive/audio_stemming/WUN/requirements.txt (line 9))\n",
            "  Using cached nvidia_cuda_cupti_cu12-12.1.105-py3-none-manylinux1_x86_64.whl (14.1 MB)\n",
            "Collecting nvidia-cudnn-cu12==8.9.2.26 (from torch->-r /content/drive/MyDrive/audio_stemming/WUN/requirements.txt (line 9))\n",
            "  Using cached nvidia_cudnn_cu12-8.9.2.26-py3-none-manylinux1_x86_64.whl (731.7 MB)\n",
            "Collecting nvidia-cublas-cu12==12.1.3.1 (from torch->-r /content/drive/MyDrive/audio_stemming/WUN/requirements.txt (line 9))\n",
            "  Using cached nvidia_cublas_cu12-12.1.3.1-py3-none-manylinux1_x86_64.whl (410.6 MB)\n",
            "Collecting nvidia-cufft-cu12==11.0.2.54 (from torch->-r /content/drive/MyDrive/audio_stemming/WUN/requirements.txt (line 9))\n",
            "  Using cached nvidia_cufft_cu12-11.0.2.54-py3-none-manylinux1_x86_64.whl (121.6 MB)\n",
            "Collecting nvidia-curand-cu12==10.3.2.106 (from torch->-r /content/drive/MyDrive/audio_stemming/WUN/requirements.txt (line 9))\n",
            "  Using cached nvidia_curand_cu12-10.3.2.106-py3-none-manylinux1_x86_64.whl (56.5 MB)\n",
            "Collecting nvidia-cusolver-cu12==11.4.5.107 (from torch->-r /content/drive/MyDrive/audio_stemming/WUN/requirements.txt (line 9))\n",
            "  Using cached nvidia_cusolver_cu12-11.4.5.107-py3-none-manylinux1_x86_64.whl (124.2 MB)\n",
            "Collecting nvidia-cusparse-cu12==12.1.0.106 (from torch->-r /content/drive/MyDrive/audio_stemming/WUN/requirements.txt (line 9))\n",
            "  Using cached nvidia_cusparse_cu12-12.1.0.106-py3-none-manylinux1_x86_64.whl (196.0 MB)\n",
            "Collecting nvidia-nccl-cu12==2.20.5 (from torch->-r /content/drive/MyDrive/audio_stemming/WUN/requirements.txt (line 9))\n",
            "  Using cached nvidia_nccl_cu12-2.20.5-py3-none-manylinux2014_x86_64.whl (176.2 MB)\n",
            "Collecting nvidia-nvtx-cu12==12.1.105 (from torch->-r /content/drive/MyDrive/audio_stemming/WUN/requirements.txt (line 9))\n",
            "  Using cached nvidia_nvtx_cu12-12.1.105-py3-none-manylinux1_x86_64.whl (99 kB)\n",
            "Requirement already satisfied: triton==2.3.0 in /usr/local/lib/python3.10/dist-packages (from torch->-r /content/drive/MyDrive/audio_stemming/WUN/requirements.txt (line 9)) (2.3.0)\n",
            "Collecting nvidia-nvjitlink-cu12 (from nvidia-cusolver-cu12==11.4.5.107->torch->-r /content/drive/MyDrive/audio_stemming/WUN/requirements.txt (line 9))\n",
            "  Downloading nvidia_nvjitlink_cu12-12.5.82-py3-none-manylinux2014_x86_64.whl (21.3 MB)\n",
            "\u001b[2K     \u001b[90m━━━━━━━━━━━━━━━━━━━━━━━━━━━━━━━━━━━━━━━━\u001b[0m \u001b[32m21.3/21.3 MB\u001b[0m \u001b[31m4.1 MB/s\u001b[0m eta \u001b[36m0:00:00\u001b[0m\n",
            "\u001b[?25hRequirement already satisfied: pillow!=8.3.*,>=5.3.0 in /usr/local/lib/python3.10/dist-packages (from torchvision->-r /content/drive/MyDrive/audio_stemming/WUN/requirements.txt (line 10)) (9.4.0)\n",
            "Requirement already satisfied: absl-py>=0.4 in /usr/local/lib/python3.10/dist-packages (from tensorboard->-r /content/drive/MyDrive/audio_stemming/WUN/requirements.txt (line 11)) (1.4.0)\n",
            "Requirement already satisfied: grpcio>=1.48.2 in /usr/local/lib/python3.10/dist-packages (from tensorboard->-r /content/drive/MyDrive/audio_stemming/WUN/requirements.txt (line 11)) (1.64.1)\n",
            "Requirement already satisfied: google-auth<3,>=1.6.3 in /usr/local/lib/python3.10/dist-packages (from tensorboard->-r /content/drive/MyDrive/audio_stemming/WUN/requirements.txt (line 11)) (2.27.0)\n",
            "Requirement already satisfied: google-auth-oauthlib<2,>=0.5 in /usr/local/lib/python3.10/dist-packages (from tensorboard->-r /content/drive/MyDrive/audio_stemming/WUN/requirements.txt (line 11)) (1.2.0)\n",
            "Requirement already satisfied: markdown>=2.6.8 in /usr/local/lib/python3.10/dist-packages (from tensorboard->-r /content/drive/MyDrive/audio_stemming/WUN/requirements.txt (line 11)) (3.6)\n",
            "Requirement already satisfied: protobuf!=4.24.0,>=3.19.6 in /usr/local/lib/python3.10/dist-packages (from tensorboard->-r /content/drive/MyDrive/audio_stemming/WUN/requirements.txt (line 11)) (3.20.3)\n",
            "Requirement already satisfied: requests<3,>=2.21.0 in /usr/local/lib/python3.10/dist-packages (from tensorboard->-r /content/drive/MyDrive/audio_stemming/WUN/requirements.txt (line 11)) (2.31.0)\n",
            "Requirement already satisfied: setuptools>=41.0.0 in /usr/local/lib/python3.10/dist-packages (from tensorboard->-r /content/drive/MyDrive/audio_stemming/WUN/requirements.txt (line 11)) (67.7.2)\n",
            "Requirement already satisfied: six>1.9 in /usr/local/lib/python3.10/dist-packages (from tensorboard->-r /content/drive/MyDrive/audio_stemming/WUN/requirements.txt (line 11)) (1.16.0)\n",
            "Requirement already satisfied: tensorboard-data-server<0.8.0,>=0.7.0 in /usr/local/lib/python3.10/dist-packages (from tensorboard->-r /content/drive/MyDrive/audio_stemming/WUN/requirements.txt (line 11)) (0.7.2)\n",
            "Requirement already satisfied: werkzeug>=1.0.1 in /usr/local/lib/python3.10/dist-packages (from tensorboard->-r /content/drive/MyDrive/audio_stemming/WUN/requirements.txt (line 11)) (3.0.3)\n",
            "Requirement already satisfied: pycparser in /usr/local/lib/python3.10/dist-packages (from cffi>=1.0->soundfile->-r /content/drive/MyDrive/audio_stemming/WUN/requirements.txt (line 4)) (2.22)\n",
            "Requirement already satisfied: cachetools<6.0,>=2.0.0 in /usr/local/lib/python3.10/dist-packages (from google-auth<3,>=1.6.3->tensorboard->-r /content/drive/MyDrive/audio_stemming/WUN/requirements.txt (line 11)) (5.3.3)\n",
            "Requirement already satisfied: pyasn1-modules>=0.2.1 in /usr/local/lib/python3.10/dist-packages (from google-auth<3,>=1.6.3->tensorboard->-r /content/drive/MyDrive/audio_stemming/WUN/requirements.txt (line 11)) (0.4.0)\n",
            "Requirement already satisfied: rsa<5,>=3.1.4 in /usr/local/lib/python3.10/dist-packages (from google-auth<3,>=1.6.3->tensorboard->-r /content/drive/MyDrive/audio_stemming/WUN/requirements.txt (line 11)) (4.9)\n",
            "Requirement already satisfied: requests-oauthlib>=0.7.0 in /usr/local/lib/python3.10/dist-packages (from google-auth-oauthlib<2,>=0.5->tensorboard->-r /content/drive/MyDrive/audio_stemming/WUN/requirements.txt (line 11)) (1.3.1)\n",
            "Requirement already satisfied: packaging in /usr/local/lib/python3.10/dist-packages (from lazy-loader>=0.1->librosa->-r /content/drive/MyDrive/audio_stemming/WUN/requirements.txt (line 3)) (24.1)\n",
            "Requirement already satisfied: llvmlite<0.42,>=0.41.0dev0 in /usr/local/lib/python3.10/dist-packages (from numba>=0.51.0->librosa->-r /content/drive/MyDrive/audio_stemming/WUN/requirements.txt (line 3)) (0.41.1)\n",
            "Requirement already satisfied: python-dateutil>=2.8.2 in /usr/local/lib/python3.10/dist-packages (from pandas>=1.0.1->museval->-r /content/drive/MyDrive/audio_stemming/WUN/requirements.txt (line 6)) (2.8.2)\n",
            "Requirement already satisfied: pytz>=2020.1 in /usr/local/lib/python3.10/dist-packages (from pandas>=1.0.1->museval->-r /content/drive/MyDrive/audio_stemming/WUN/requirements.txt (line 6)) (2023.4)\n",
            "Requirement already satisfied: tzdata>=2022.1 in /usr/local/lib/python3.10/dist-packages (from pandas>=1.0.1->museval->-r /content/drive/MyDrive/audio_stemming/WUN/requirements.txt (line 6)) (2024.1)\n",
            "Requirement already satisfied: platformdirs>=2.5.0 in /usr/local/lib/python3.10/dist-packages (from pooch>=1.1->librosa->-r /content/drive/MyDrive/audio_stemming/WUN/requirements.txt (line 3)) (4.2.2)\n",
            "Requirement already satisfied: charset-normalizer<4,>=2 in /usr/local/lib/python3.10/dist-packages (from requests<3,>=2.21.0->tensorboard->-r /content/drive/MyDrive/audio_stemming/WUN/requirements.txt (line 11)) (3.3.2)\n",
            "Requirement already satisfied: idna<4,>=2.5 in /usr/local/lib/python3.10/dist-packages (from requests<3,>=2.21.0->tensorboard->-r /content/drive/MyDrive/audio_stemming/WUN/requirements.txt (line 11)) (3.7)\n",
            "Requirement already satisfied: urllib3<3,>=1.21.1 in /usr/local/lib/python3.10/dist-packages (from requests<3,>=2.21.0->tensorboard->-r /content/drive/MyDrive/audio_stemming/WUN/requirements.txt (line 11)) (2.0.7)\n",
            "Requirement already satisfied: certifi>=2017.4.17 in /usr/local/lib/python3.10/dist-packages (from requests<3,>=2.21.0->tensorboard->-r /content/drive/MyDrive/audio_stemming/WUN/requirements.txt (line 11)) (2024.6.2)\n",
            "Requirement already satisfied: threadpoolctl>=2.0.0 in /usr/local/lib/python3.10/dist-packages (from scikit-learn>=0.20.0->librosa->-r /content/drive/MyDrive/audio_stemming/WUN/requirements.txt (line 3)) (3.5.0)\n",
            "Collecting ffmpeg-python>=0.2.0 (from stempeg>=0.2.3->musdb->-r /content/drive/MyDrive/audio_stemming/WUN/requirements.txt (line 5))\n",
            "  Downloading ffmpeg_python-0.2.0-py3-none-any.whl (25 kB)\n",
            "Requirement already satisfied: MarkupSafe>=2.1.1 in /usr/local/lib/python3.10/dist-packages (from werkzeug>=1.0.1->tensorboard->-r /content/drive/MyDrive/audio_stemming/WUN/requirements.txt (line 11)) (2.1.5)\n",
            "Requirement already satisfied: attrs>=22.2.0 in /usr/local/lib/python3.10/dist-packages (from jsonschema->museval->-r /content/drive/MyDrive/audio_stemming/WUN/requirements.txt (line 6)) (23.2.0)\n",
            "Requirement already satisfied: jsonschema-specifications>=2023.03.6 in /usr/local/lib/python3.10/dist-packages (from jsonschema->museval->-r /content/drive/MyDrive/audio_stemming/WUN/requirements.txt (line 6)) (2023.12.1)\n",
            "Requirement already satisfied: referencing>=0.28.4 in /usr/local/lib/python3.10/dist-packages (from jsonschema->museval->-r /content/drive/MyDrive/audio_stemming/WUN/requirements.txt (line 6)) (0.35.1)\n",
            "Requirement already satisfied: rpds-py>=0.7.1 in /usr/local/lib/python3.10/dist-packages (from jsonschema->museval->-r /content/drive/MyDrive/audio_stemming/WUN/requirements.txt (line 6)) (0.18.1)\n",
            "Requirement already satisfied: PyYAML in /usr/local/lib/python3.10/dist-packages (from pyaml->musdb->-r /content/drive/MyDrive/audio_stemming/WUN/requirements.txt (line 5)) (6.0.1)\n",
            "Requirement already satisfied: mpmath<1.4.0,>=1.1.0 in /usr/local/lib/python3.10/dist-packages (from sympy->torch->-r /content/drive/MyDrive/audio_stemming/WUN/requirements.txt (line 9)) (1.3.0)\n",
            "Requirement already satisfied: pyasn1<0.7.0,>=0.4.6 in /usr/local/lib/python3.10/dist-packages (from pyasn1-modules>=0.2.1->google-auth<3,>=1.6.3->tensorboard->-r /content/drive/MyDrive/audio_stemming/WUN/requirements.txt (line 11)) (0.6.0)\n",
            "Requirement already satisfied: oauthlib>=3.0.0 in /usr/local/lib/python3.10/dist-packages (from requests-oauthlib>=0.7.0->google-auth-oauthlib<2,>=0.5->tensorboard->-r /content/drive/MyDrive/audio_stemming/WUN/requirements.txt (line 11)) (3.2.2)\n",
            "Installing collected packages: simplejson, pyaml, nvidia-nvtx-cu12, nvidia-nvjitlink-cu12, nvidia-nccl-cu12, nvidia-curand-cu12, nvidia-cufft-cu12, nvidia-cuda-runtime-cu12, nvidia-cuda-nvrtc-cu12, nvidia-cuda-cupti-cu12, nvidia-cublas-cu12, ffmpeg-python, stempeg, nvidia-cusparse-cu12, nvidia-cudnn-cu12, nvidia-cusolver-cu12, musdb, museval\n",
            "Successfully installed ffmpeg-python-0.2.0 musdb-0.4.2 museval-0.4.1 nvidia-cublas-cu12-12.1.3.1 nvidia-cuda-cupti-cu12-12.1.105 nvidia-cuda-nvrtc-cu12-12.1.105 nvidia-cuda-runtime-cu12-12.1.105 nvidia-cudnn-cu12-8.9.2.26 nvidia-cufft-cu12-11.0.2.54 nvidia-curand-cu12-10.3.2.106 nvidia-cusolver-cu12-11.4.5.107 nvidia-cusparse-cu12-12.1.0.106 nvidia-nccl-cu12-2.20.5 nvidia-nvjitlink-cu12-12.5.82 nvidia-nvtx-cu12-12.1.105 pyaml-24.4.0 simplejson-3.19.2 stempeg-0.2.3\n"
          ]
        }
      ]
    },
    {
      "cell_type": "code",
      "source": [
        "!git clone https://github.com/f90/Wave-U-Net-Pytorch.git\n",
        "#change out to librosa.resample(audio, orig_sr=new_sr, target_sr=new_sr, res_type='kaiser_fast') in data/util.py"
      ],
      "metadata": {
        "colab": {
          "base_uri": "https://localhost:8080/"
        },
        "id": "6mKvzsxoYDF4",
        "outputId": "7802cb93-e407-418d-f295-33b3f1486273"
      },
      "execution_count": null,
      "outputs": [
        {
          "output_type": "stream",
          "name": "stdout",
          "text": [
            "Cloning into 'Wave-U-Net-Pytorch'...\n",
            "remote: Enumerating objects: 309, done.\u001b[K\n",
            "remote: Counting objects: 100% (309/309), done.\u001b[K\n",
            "remote: Compressing objects: 100% (127/127), done.\u001b[K\n",
            "remote: Total 309 (delta 182), reused 295 (delta 177), pack-reused 0\u001b[K\n",
            "Receiving objects: 100% (309/309), 20.61 MiB | 21.51 MiB/s, done.\n",
            "Resolving deltas: 100% (182/182), done.\n"
          ]
        }
      ]
    },
    {
      "cell_type": "code",
      "source": [
        "!git clone https://github.com/OlamideShogbamu/audiostemming.git"
      ],
      "metadata": {
        "colab": {
          "base_uri": "https://localhost:8080/"
        },
        "id": "aBZvXrxUbXAt",
        "outputId": "7fe04753-4483-4e69-d847-0496b619fc31"
      },
      "execution_count": null,
      "outputs": [
        {
          "output_type": "stream",
          "name": "stdout",
          "text": [
            "Cloning into 'audiostemming'...\n",
            "remote: Enumerating objects: 65, done.\u001b[K\n",
            "remote: Counting objects: 100% (65/65), done.\u001b[K\n",
            "remote: Compressing objects: 100% (54/54), done.\u001b[K\n",
            "remote: Total 65 (delta 6), reused 0 (delta 0), pack-reused 0\u001b[K\n",
            "Receiving objects: 100% (65/65), 59.66 MiB | 19.66 MiB/s, done.\n",
            "Resolving deltas: 100% (6/6), done.\n"
          ]
        }
      ]
    },
    {
      "cell_type": "code",
      "source": [
        "#!python Wave-U-Net-Pytorch/predict.py --load_model /content/drive/MyDrive/audio_stemming/WUN/model --input \"/content/audiostemming/inputdata/BeautifulNubia.mp3\""
      ],
      "metadata": {
        "collapsed": true,
        "id": "tX3T1ZEhY79N"
      },
      "execution_count": null,
      "outputs": []
    },
    {
      "cell_type": "code",
      "source": [
        "import os\n",
        "import subprocess\n",
        "\n",
        "# Clone the repository\n",
        "repo_url = 'https://github.com/OlamideShogbamu/audiostemming.git'\n",
        "repo_dir = 'audiostemming'\n",
        "\n",
        "if not os.path.exists(repo_dir):\n",
        "    subprocess.run(['git', 'clone', repo_url])\n",
        "\n",
        "# Directory containing the songs\n",
        "songs_dir = os.path.join(repo_dir, 'inputdata')\n",
        "\n",
        "# List all songs in the directory\n",
        "songs = [f for f in os.listdir(songs_dir) if f.endswith('.mp3')]"
      ],
      "metadata": {
        "id": "fVWkWcIVo8jV"
      },
      "execution_count": null,
      "outputs": []
    },
    {
      "cell_type": "code",
      "source": [
        "import subprocess\n",
        "import os\n",
        "from tqdm import tqdm\n",
        "import shutil\n",
        "\n",
        "# Define paths\n",
        "predict_script = \"Wave-U-Net-Pytorch/predict.py\"\n",
        "input_directory = \"/content/audiostemming/inputdata/\"\n",
        "output_dir = \"/content/drive/MyDrive/audio_stemming/WUN/output\"\n",
        "zip_filename = \"/content/drive/MyDrive/audio_stemming/WUN/output.zip\"\n",
        "\n",
        "# Ensure output directory exists\n",
        "os.makedirs(output_dir, exist_ok=True)\n",
        "\n",
        "# Iterate over each song in the 'song' list and prepend the directory path\n",
        "for mp3_filename in tqdm(songs, desc=\"Processing songs\", unit=\"file\"):\n",
        "    # Construct full path to input file\n",
        "    input_file = os.path.join(input_directory, mp3_filename)\n",
        "\n",
        "    # Command to execute predict.py script with current input file\n",

        "    command = [\n",
        "        \"python\", predict_script,\n",
        "        \"--load_model\", \"/content/drive/MyDrive/audio_stemming/WUN/model\",\n",
        "        \"--input\", input_file,\n",
        "        \"--output\", output_dir\n",
        "    ]\n",
        "\n",
        "    # Execute the command\n",
        "    try:\n",
        "        subprocess.run(command, check=True)\n",
        "    except subprocess.CalledProcessError as e:\n",
        "        print(f\"Error processing {input_file}: {e}\")\n",
        "\n",
        "# Zip the output directory\n",
        "shutil.make_archive(output_dir, 'zip', output_dir)\n"
      ],
      "metadata": {
        "colab": {
          "base_uri": "https://localhost:8080/",
          "height": 53
        },
        "id": "a47q4Vr8gO-W",
        "outputId": "4ecb6e12-42d6-41eb-e471-510db844ba88"
      },
      "execution_count": null,
      "outputs": [
        {
          "output_type": "stream",
          "name": "stderr",
          "text": [
            "Processing songs: 100%|██████████| 36/36 [1:16:00<00:00, 126.69s/file]\n"
          ]
        },
        {
          "output_type": "execute_result",
          "data": {
            "text/plain": [
              "'/content/drive/MyDrive/audio_stemming/WUN/output.zip'"
            ],
            "application/vnd.google.colaboratory.intrinsic+json": {
              "type": "string"
            }
          },
          "metadata": {},
          "execution_count": 12
        }
      ]
    },
    {
      "cell_type": "code",
      "source": [
        "# !python Wave-U-Net-Pytorch/predict.py --load_model /content/drive/MyDrive/audio_stemming/WUN/model --input /content/audiostemming/inputdata/{songs[0]}"
      ],
      "metadata": {
        "id": "CQMgnANKi0Hz"
      },
      "execution_count": null,
      "outputs": []
    },
    {
      "cell_type": "code",
      "source": [
        "import subprocess\n",
        "from tqdm import tqdm\n",
        "\n",
        "# Define path to your predict.py script\n",
        "input_dir = \"/content/audiostemming/inputdata/\"\n",
        "predict_script = \"Wave-U-Net-Pytorch/predict.py\"\n",
        "output_dir = \"/content/drive/MyDrive/audio_stemming/WUN/output.zip\"\n",
        "output = \"/content/drive/MyDrive/audio_stemming/WUN/output\"\n",
        "\n",
        "# Iterate over each .mp3 file in the 'song' variable\n",
        "for mp3_file in tqdm(songs, desc=\"processing songs\", unit=\"file\"):\n",
        "    input_file = os.path.join(input_dir, mp3_file)\n",
        "    # Command to execute predict.py script with current input file\n",
        "    command = [\n",
        "        \"python\", predict_script,\n",
        "        \"--load_model\", \"/content/drive/MyDrive/audio_stemming/WUN/model\",\n",
        "        \"--input\", input_file,\n",
        "        \"--output\", output_dir\n",
        "    ]\n",
        "\n",
        "    # Execute the command\n",
        "    try:\n",
        "        subprocess.run(command, check=True)\n",
        "    except subprocess.CalledProcessError as e:\n",
        "        print(f\"Error processing {mp3_file}: {e}\")\n",
        "\n",
        "shutil.make_archive(output_dir, 'zip', output_dir)\n"
      ],
      "metadata": {
        "colab": {
          "base_uri": "https://localhost:8080/",
          "height": 775
        },
        "collapsed": true,
        "id": "OjVG4VbHjVz7",
        "outputId": "0e8a0fb6-0de1-4233-834c-db05e91aa27f"
      },
      "execution_count": null,
      "outputs": [
        {
          "metadata": {
            "tags": null
          },
          "name": "stderr",
          "output_type": "stream",
          "text": [
            "processing songs:   3%|▎         | 1/36 [00:19<11:12, 19.23s/file]"
          ]
        },
        {
          "metadata": {
            "tags": null
          },
          "name": "stdout",
          "output_type": "stream",
          "text": [
            "Error processing Beautiful-Nubia-Beriwon1.mp3: Command '['python', 'Wave-U-Net-Pytorch/predict.py', '--load_model', '/content/drive/MyDrive/audio_stemming/WUN/model', '--input', '/content/audiostemming/inputdata/Beautiful-Nubia-Beriwon1.mp3', '--output', '/content/drive/MyDrive/audio_stemming/WUN/output.zip']' returned non-zero exit status 1.\n"
          ]
        },
        {
          "metadata": {
            "tags": null
          },
          "name": "stderr",
          "output_type": "stream",
          "text": [
            "\rprocessing songs:   6%|▌         | 2/36 [02:22<45:42, 80.67s/file]"
          ]
        },
        {
          "metadata": {
            "tags": null
          },
          "name": "stdout",
          "output_type": "stream",
          "text": [
            "Error processing Lgbaja-TounTerin2.mp3: Command '['python', 'Wave-U-Net-Pytorch/predict.py', '--load_model', '/content/drive/MyDrive/audio_stemming/WUN/model', '--input', '/content/audiostemming/inputdata/Lgbaja-TounTerin2.mp3', '--output', '/content/drive/MyDrive/audio_stemming/WUN/output.zip']' returned non-zero exit status 1.\n"
          ]
        },
        {
          "metadata": {
            "tags": null
          },
          "name": "stderr",
          "output_type": "stream",
          "text": [
            "\rprocessing songs:   8%|▊         | 3/36 [04:26<55:08, 100.27s/file]"
          ]
        },
        {
          "metadata": {
            "tags": null
          },
          "name": "stdout",
          "output_type": "stream",
          "text": [
            "Error processing Haruna-Ishola-OrokiSocialClub6.mp3: Command '['python', 'Wave-U-Net-Pytorch/predict.py', '--load_model', '/content/drive/MyDrive/audio_stemming/WUN/model', '--input', '/content/audiostemming/inputdata/Haruna-Ishola-OrokiSocialClub6.mp3', '--output', '/content/drive/MyDrive/audio_stemming/WUN/output.zip']' returned non-zero exit status 1.\n"
          ]
        },
        {
          "metadata": {
            "tags": null
          },
          "name": "stderr",
          "output_type": "stream",
          "text": [
            "\rprocessing songs:  11%|█         | 4/36 [06:31<58:35, 109.85s/file]"
          ]
        },
        {
          "metadata": {
            "tags": null
          },
          "name": "stdout",
          "output_type": "stream",
          "text": [
            "Error processing Kayode-Fashola-BiPepeyeBaJokuta1.mp3: Command '['python', 'Wave-U-Net-Pytorch/predict.py', '--load_model', '/content/drive/MyDrive/audio_stemming/WUN/model', '--input', '/content/audiostemming/inputdata/Kayode-Fashola-BiPepeyeBaJokuta1.mp3', '--output', '/content/drive/MyDrive/audio_stemming/WUN/output.zip']' returned non-zero exit status 1.\n"
          ]
        },
        {
          "metadata": {
            "tags": null
          },
          "name": "stderr",
          "output_type": "stream",
          "text": [
            "\rprocessing songs:  14%|█▍        | 5/36 [06:37<37:26, 72.48s/file] "
          ]
        },
        {
          "metadata": {
            "tags": null
          },
          "name": "stdout",
          "output_type": "stream",
          "text": [
            "Error processing Beautiful-Nubia-IkokoAkufo3.mp3: Command '['python', 'Wave-U-Net-Pytorch/predict.py', '--load_model', '/content/drive/MyDrive/audio_stemming/WUN/model', '--input', '/content/audiostemming/inputdata/Beautiful-Nubia-IkokoAkufo3.mp3', '--output', '/content/drive/MyDrive/audio_stemming/WUN/output.zip']' returned non-zero exit status 1.\n"
          ]
        },
        {
          "metadata": {
            "tags": null
          },
          "name": "stderr",
          "output_type": "stream",
          "text": [
            "\rprocessing songs:  17%|█▋        | 6/36 [06:44<25:11, 50.38s/file]"
          ]
        },
        {
          "metadata": {
            "tags": null
          },
          "name": "stdout",
          "output_type": "stream",
          "text": [
            "Error processing Beautiful-Nubia-OwuroLojo1.mp3: Command '['python', 'Wave-U-Net-Pytorch/predict.py', '--load_model', '/content/drive/MyDrive/audio_stemming/WUN/model', '--input', '/content/audiostemming/inputdata/Beautiful-Nubia-OwuroLojo1.mp3', '--output', '/content/drive/MyDrive/audio_stemming/WUN/output.zip']' returned non-zero exit status 1.\n"
          ]
        },
        {
          "metadata": {
            "tags": null
          },
          "name": "stderr",
          "output_type": "stream",
          "text": [
            "\rprocessing songs:  19%|█▉        | 7/36 [06:50<17:21, 35.90s/file]"
          ]
        },
        {
          "metadata": {
            "tags": null
          },
          "name": "stdout",
          "output_type": "stream",
          "text": [
            "Error processing Beautiful-Nubia-IkokoAkufo1.mp3: Command '['python', 'Wave-U-Net-Pytorch/predict.py', '--load_model', '/content/drive/MyDrive/audio_stemming/WUN/model', '--input', '/content/audiostemming/inputdata/Beautiful-Nubia-IkokoAkufo1.mp3', '--output', '/content/drive/MyDrive/audio_stemming/WUN/output.zip']' returned non-zero exit status 1.\n"
          ]
        },
        {
          "metadata": {
            "tags": null
          },
          "name": "stderr",
          "output_type": "stream",
          "text": [
            "\rprocessing songs:  22%|██▏       | 8/36 [06:58<12:31, 26.84s/file]"
          ]
        },
        {
          "metadata": {
            "tags": null
          },
          "name": "stdout",
          "output_type": "stream",
          "text": [
            "Error processing Beautiful-Nubia-IkokoAkufo2.mp3: Command '['python', 'Wave-U-Net-Pytorch/predict.py', '--load_model', '/content/drive/MyDrive/audio_stemming/WUN/model', '--input', '/content/audiostemming/inputdata/Beautiful-Nubia-IkokoAkufo2.mp3', '--output', '/content/drive/MyDrive/audio_stemming/WUN/output.zip']' returned non-zero exit status 1.\n"
          ]
        },
        {
          "metadata": {
            "tags": null
          },
          "name": "stderr",
          "output_type": "stream",
          "text": [
            "\rprocessing songs:  25%|██▌       | 9/36 [08:51<24:14, 53.86s/file]"
          ]
        },
        {
          "metadata": {
            "tags": null
          },
          "name": "stdout",
          "output_type": "stream",
          "text": [
            "Error processing Shina-Peters-Shinamania2.mp3: Command '['python', 'Wave-U-Net-Pytorch/predict.py', '--load_model', '/content/drive/MyDrive/audio_stemming/WUN/model', '--input', '/content/audiostemming/inputdata/Shina-Peters-Shinamania2.mp3', '--output', '/content/drive/MyDrive/audio_stemming/WUN/output.zip']' returned non-zero exit status 1.\n"
          ]
        },
        {
          "metadata": {
            "tags": null
          },
          "name": "stderr",
          "output_type": "stream",
          "text": [
            "\rprocessing songs:  28%|██▊       | 10/36 [10:28<29:02, 67.03s/file]"
          ]
        },
        {
          "metadata": {
            "tags": null
          },
          "name": "stdout",
          "output_type": "stream",
          "text": [
            "Error processing Kayode-Fashola-RantiomoEniTiwoNSe2.mp3: Command '['python', 'Wave-U-Net-Pytorch/predict.py', '--load_model', '/content/drive/MyDrive/audio_stemming/WUN/model', '--input', '/content/audiostemming/inputdata/Kayode-Fashola-RantiomoEniTiwoNSe2.mp3', '--output', '/content/drive/MyDrive/audio_stemming/WUN/output.zip']' returned non-zero exit status 1.\n"
          ]
        },
        {
          "metadata": {
            "tags": null
          },
          "name": "stderr",
          "output_type": "stream",
          "text": [
            "\rprocessing songs:  31%|███       | 11/36 [12:24<34:15, 82.23s/file]"
          ]
        },
        {
          "metadata": {
            "tags": null
          },
          "name": "stdout",
          "output_type": "stream",
          "text": [
            "Error processing KayodeFashola-RantiomoEniTiwoNSe1.mp3: Command '['python', 'Wave-U-Net-Pytorch/predict.py', '--load_model', '/content/drive/MyDrive/audio_stemming/WUN/model', '--input', '/content/audiostemming/inputdata/KayodeFashola-RantiomoEniTiwoNSe1.mp3', '--output', '/content/drive/MyDrive/audio_stemming/WUN/output.zip']' returned non-zero exit status 1.\n"
          ]
        },
        {
          "metadata": {
            "tags": null
          },
          "name": "stderr",
          "output_type": "stream",
          "text": [
            "\rprocessing songs:  33%|███▎      | 12/36 [14:10<35:46, 89.43s/file]"
          ]
        },
        {
          "metadata": {
            "tags": null
          },
          "name": "stdout",
          "output_type": "stream",
          "text": [
            "Error processing Musilihu-Ishola-OponApala1.mp3: Command '['python', 'Wave-U-Net-Pytorch/predict.py', '--load_model', '/content/drive/MyDrive/audio_stemming/WUN/model', '--input', '/content/audiostemming/inputdata/Musilihu-Ishola-OponApala1.mp3', '--output', '/content/drive/MyDrive/audio_stemming/WUN/output.zip']' returned non-zero exit status 1.\n"
          ]
        },
        {
          "metadata": {
            "tags": null
          },
          "name": "stderr",
          "output_type": "stream",
          "text": [
            "\rprocessing songs:  36%|███▌      | 13/36 [15:44<34:48, 90.83s/file]"
          ]
        },
        {
          "metadata": {
            "tags": null
          },
          "name": "stdout",
          "output_type": "stream",
          "text": [
            "Error processing Shina-Peters-Shinamania3.mp3: Command '['python', 'Wave-U-Net-Pytorch/predict.py', '--load_model', '/content/drive/MyDrive/audio_stemming/WUN/model', '--input', '/content/audiostemming/inputdata/Shina-Peters-Shinamania3.mp3', '--output', '/content/drive/MyDrive/audio_stemming/WUN/output.zip']' returned non-zero exit status 1.\n"
          ]
        },
        {
          "metadata": {
            "tags": null
          },
          "name": "stderr",
          "output_type": "stream",
          "text": [
            "\rprocessing songs:  39%|███▉      | 14/36 [17:43<36:21, 99.14s/file]"
          ]
        },
        {
          "metadata": {
            "tags": null
          },
          "name": "stdout",
          "output_type": "stream",
          "text": [
            "Error processing Lagbaja-FeyinE1.mp3: Command '['python', 'Wave-U-Net-Pytorch/predict.py', '--load_model', '/content/drive/MyDrive/audio_stemming/WUN/model', '--input', '/content/audiostemming/inputdata/Lagbaja-FeyinE1.mp3', '--output', '/content/drive/MyDrive/audio_stemming/WUN/output.zip']' returned non-zero exit status 1.\n"
          ]
        },
        {
          "metadata": {
            "tags": null
          },
          "name": "stderr",
          "output_type": "stream",
          "text": [
            "\rprocessing songs:  42%|████▏     | 15/36 [19:30<35:36, 101.73s/file]"
          ]
        },
        {
          "metadata": {
            "tags": null
          },
          "name": "stdout",
          "output_type": "stream",
          "text": [
            "Error processing Haruna-Ishola-InaRan2.mp3: Command '['python', 'Wave-U-Net-Pytorch/predict.py', '--load_model', '/content/drive/MyDrive/audio_stemming/WUN/model', '--input', '/content/audiostemming/inputdata/Haruna-Ishola-InaRan2.mp3', '--output', '/content/drive/MyDrive/audio_stemming/WUN/output.zip']' returned non-zero exit status 1.\n"
          ]
        },
        {
          "metadata": {
            "tags": null
          },
          "name": "stderr",
          "output_type": "stream",
          "text": [
            "\rprocessing songs:  44%|████▍     | 16/36 [19:38<24:27, 73.39s/file] "
          ]
        },
        {
          "metadata": {
            "tags": null
          },
          "name": "stdout",
          "output_type": "stream",
          "text": [
            "Error processing Ebenezer-Obey-IbaFoluwaAjokodabiIle1.mp3: Command '['python', 'Wave-U-Net-Pytorch/predict.py', '--load_model', '/content/drive/MyDrive/audio_stemming/WUN/model', '--input', '/content/audiostemming/inputdata/Ebenezer-Obey-IbaFoluwaAjokodabiIle1.mp3', '--output', '/content/drive/MyDrive/audio_stemming/WUN/output.zip']' returned non-zero exit status 1.\n"
          ]
        },
        {
          "metadata": {
            "tags": null
          },
          "name": "stderr",
          "output_type": "stream",
          "text": [
            "\rprocessing songs:  47%|████▋     | 17/36 [21:39<27:47, 87.78s/file]"
          ]
        },
        {
          "metadata": {
            "tags": null
          },
          "name": "stdout",
          "output_type": "stream",
          "text": [
            "Error processing Haruna-Ishola-OrokiSocialClub5.mp3: Command '['python', 'Wave-U-Net-Pytorch/predict.py', '--load_model', '/content/drive/MyDrive/audio_stemming/WUN/model', '--input', '/content/audiostemming/inputdata/Haruna-Ishola-OrokiSocialClub5.mp3', '--output', '/content/drive/MyDrive/audio_stemming/WUN/output.zip']' returned non-zero exit status 1.\n"
          ]
        },
        {
          "metadata": {
            "tags": null
          },
          "name": "stderr",
          "output_type": "stream",
          "text": [
            "\rprocessing songs:  50%|█████     | 18/36 [21:47<19:06, 63.70s/file]"
          ]
        },
        {
          "metadata": {
            "tags": null
          },
          "name": "stdout",
          "output_type": "stream",
          "text": [
            "Error processing small_peoples_anthem.mp3: Command '['python', 'Wave-U-Net-Pytorch/predict.py', '--load_model', '/content/drive/MyDrive/audio_stemming/WUN/model', '--input', '/content/audiostemming/inputdata/small_peoples_anthem.mp3', '--output', '/content/drive/MyDrive/audio_stemming/WUN/output.zip']' returned non-zero exit status 1.\n"
          ]
        },
        {
          "metadata": {
            "tags": null
          },
          "name": "stderr",
          "output_type": "stream",
          "text": [
            "\rprocessing songs:  53%|█████▎    | 19/36 [23:38<22:03, 77.86s/file]"
          ]
        },
        {
          "metadata": {
            "tags": null
          },
          "name": "stdout",
          "output_type": "stream",
          "text": [
            "Error processing Haruna-Ishola-OrokiSocialClub4.mp3: Command '['python', 'Wave-U-Net-Pytorch/predict.py', '--load_model', '/content/drive/MyDrive/audio_stemming/WUN/model', '--input', '/content/audiostemming/inputdata/Haruna-Ishola-OrokiSocialClub4.mp3', '--output', '/content/drive/MyDrive/audio_stemming/WUN/output.zip']' returned non-zero exit status 1.\n"
          ]
        },
        {
          "metadata": {
            "tags": null
          },
          "name": "stderr",
          "output_type": "stream",
          "text": [
            "\rprocessing songs:  56%|█████▌    | 20/36 [24:58<20:57, 78.61s/file]"
          ]
        },
        {
          "metadata": {
            "tags": null
          },
          "name": "stdout",
          "output_type": "stream",
          "text": [
            "Error processing Musilihu-Ishola-IseOluwa2.mp3: Command '['python', 'Wave-U-Net-Pytorch/predict.py', '--load_model', '/content/drive/MyDrive/audio_stemming/WUN/model', '--input', '/content/audiostemming/inputdata/Musilihu-Ishola-IseOluwa2.mp3', '--output', '/content/drive/MyDrive/audio_stemming/WUN/output.zip']' returned non-zero exit status 1.\n"
          ]
        },
        {
          "output_type": "stream",
          "name": "stderr",
          "text": [
            "\rprocessing songs:  58%|█████▊    | 21/36 [27:02<23:03, 92.24s/file]"
          ]
        },
        {
          "output_type": "stream",
          "name": "stdout",
          "text": [
            "Error processing Musilihu-Ishola-OponApala2.mp3: Command '['python', 'Wave-U-Net-Pytorch/predict.py', '--load_model', '/content/drive/MyDrive/audio_stemming/WUN/model', '--input', '/content/audiostemming/inputdata/Musilihu-Ishola-OponApala2.mp3', '--output', '/content/drive/MyDrive/audio_stemming/WUN/output.zip']' returned non-zero exit status 1.\n"
          ]
        },
        {
          "output_type": "stream",
          "name": "stderr",
          "text": [
            "\rprocessing songs:  61%|██████    | 22/36 [28:43<22:09, 94.95s/file]"
          ]
        },
        {
          "output_type": "stream",
          "name": "stdout",
          "text": [
            "Error processing Ebenezer-Obey-IbaFoluwaAjokodabiIle2.mp3: Command '['python', 'Wave-U-Net-Pytorch/predict.py', '--load_model', '/content/drive/MyDrive/audio_stemming/WUN/model', '--input', '/content/audiostemming/inputdata/Ebenezer-Obey-IbaFoluwaAjokodabiIle2.mp3', '--output', '/content/drive/MyDrive/audio_stemming/WUN/output.zip']' returned non-zero exit status 1.\n"
          ]
        },
        {
          "output_type": "stream",
          "name": "stderr",
          "text": [
            "\rprocessing songs:  61%|██████    | 22/36 [28:46<18:18, 78.46s/file]\n"
          ]
        },
        {
          "output_type": "error",
          "ename": "KeyboardInterrupt",
          "evalue": "",
          "traceback": [
            "\u001b[0;31m---------------------------------------------------------------------------\u001b[0m",
            "\u001b[0;31mKeyboardInterrupt\u001b[0m                         Traceback (most recent call last)",
            "\u001b[0;32m<ipython-input-8-c8ad6205af0d>\u001b[0m in \u001b[0;36m<cell line: 11>\u001b[0;34m()\u001b[0m\n\u001b[1;32m     21\u001b[0m     \u001b[0;31m# Execute the command\u001b[0m\u001b[0;34m\u001b[0m\u001b[0;34m\u001b[0m\u001b[0m\n\u001b[1;32m     22\u001b[0m     \u001b[0;32mtry\u001b[0m\u001b[0;34m:\u001b[0m\u001b[0;34m\u001b[0m\u001b[0;34m\u001b[0m\u001b[0m\n\u001b[0;32m---> 23\u001b[0;31m         \u001b[0msubprocess\u001b[0m\u001b[0;34m.\u001b[0m\u001b[0mrun\u001b[0m\u001b[0;34m(\u001b[0m\u001b[0mcommand\u001b[0m\u001b[0;34m,\u001b[0m \u001b[0mcheck\u001b[0m\u001b[0;34m=\u001b[0m\u001b[0;32mTrue\u001b[0m\u001b[0;34m)\u001b[0m\u001b[0;34m\u001b[0m\u001b[0;34m\u001b[0m\u001b[0m\n\u001b[0m\u001b[1;32m     24\u001b[0m     \u001b[0;32mexcept\u001b[0m \u001b[0msubprocess\u001b[0m\u001b[0;34m.\u001b[0m\u001b[0mCalledProcessError\u001b[0m \u001b[0;32mas\u001b[0m \u001b[0me\u001b[0m\u001b[0;34m:\u001b[0m\u001b[0;34m\u001b[0m\u001b[0;34m\u001b[0m\u001b[0m\n\u001b[1;32m     25\u001b[0m         \u001b[0mprint\u001b[0m\u001b[0;34m(\u001b[0m\u001b[0;34mf\"Error processing {mp3_file}: {e}\"\u001b[0m\u001b[0;34m)\u001b[0m\u001b[0;34m\u001b[0m\u001b[0;34m\u001b[0m\u001b[0m\n",
            "\u001b[0;32m/usr/lib/python3.10/subprocess.py\u001b[0m in \u001b[0;36mrun\u001b[0;34m(input, capture_output, timeout, check, *popenargs, **kwargs)\u001b[0m\n\u001b[1;32m    503\u001b[0m     \u001b[0;32mwith\u001b[0m \u001b[0mPopen\u001b[0m\u001b[0;34m(\u001b[0m\u001b[0;34m*\u001b[0m\u001b[0mpopenargs\u001b[0m\u001b[0;34m,\u001b[0m \u001b[0;34m**\u001b[0m\u001b[0mkwargs\u001b[0m\u001b[0;34m)\u001b[0m \u001b[0;32mas\u001b[0m \u001b[0mprocess\u001b[0m\u001b[0;34m:\u001b[0m\u001b[0;34m\u001b[0m\u001b[0;34m\u001b[0m\u001b[0m\n\u001b[1;32m    504\u001b[0m         \u001b[0;32mtry\u001b[0m\u001b[0;34m:\u001b[0m\u001b[0;34m\u001b[0m\u001b[0;34m\u001b[0m\u001b[0m\n\u001b[0;32m--> 505\u001b[0;31m             \u001b[0mstdout\u001b[0m\u001b[0;34m,\u001b[0m \u001b[0mstderr\u001b[0m \u001b[0;34m=\u001b[0m \u001b[0mprocess\u001b[0m\u001b[0;34m.\u001b[0m\u001b[0mcommunicate\u001b[0m\u001b[0;34m(\u001b[0m\u001b[0minput\u001b[0m\u001b[0;34m,\u001b[0m \u001b[0mtimeout\u001b[0m\u001b[0;34m=\u001b[0m\u001b[0mtimeout\u001b[0m\u001b[0;34m)\u001b[0m\u001b[0;34m\u001b[0m\u001b[0;34m\u001b[0m\u001b[0m\n\u001b[0m\u001b[1;32m    506\u001b[0m         \u001b[0;32mexcept\u001b[0m \u001b[0mTimeoutExpired\u001b[0m \u001b[0;32mas\u001b[0m \u001b[0mexc\u001b[0m\u001b[0;34m:\u001b[0m\u001b[0;34m\u001b[0m\u001b[0;34m\u001b[0m\u001b[0m\n\u001b[1;32m    507\u001b[0m             \u001b[0mprocess\u001b[0m\u001b[0;34m.\u001b[0m\u001b[0mkill\u001b[0m\u001b[0;34m(\u001b[0m\u001b[0;34m)\u001b[0m\u001b[0;34m\u001b[0m\u001b[0;34m\u001b[0m\u001b[0m\n",
            "\u001b[0;32m/usr/lib/python3.10/subprocess.py\u001b[0m in \u001b[0;36mcommunicate\u001b[0;34m(self, input, timeout)\u001b[0m\n\u001b[1;32m   1144\u001b[0m                 \u001b[0mstderr\u001b[0m \u001b[0;34m=\u001b[0m \u001b[0mself\u001b[0m\u001b[0;34m.\u001b[0m\u001b[0mstderr\u001b[0m\u001b[0;34m.\u001b[0m\u001b[0mread\u001b[0m\u001b[0;34m(\u001b[0m\u001b[0;34m)\u001b[0m\u001b[0;34m\u001b[0m\u001b[0;34m\u001b[0m\u001b[0m\n\u001b[1;32m   1145\u001b[0m                 \u001b[0mself\u001b[0m\u001b[0;34m.\u001b[0m\u001b[0mstderr\u001b[0m\u001b[0;34m.\u001b[0m\u001b[0mclose\u001b[0m\u001b[0;34m(\u001b[0m\u001b[0;34m)\u001b[0m\u001b[0;34m\u001b[0m\u001b[0;34m\u001b[0m\u001b[0m\n\u001b[0;32m-> 1146\u001b[0;31m             \u001b[0mself\u001b[0m\u001b[0;34m.\u001b[0m\u001b[0mwait\u001b[0m\u001b[0;34m(\u001b[0m\u001b[0;34m)\u001b[0m\u001b[0;34m\u001b[0m\u001b[0;34m\u001b[0m\u001b[0m\n\u001b[0m\u001b[1;32m   1147\u001b[0m         \u001b[0;32melse\u001b[0m\u001b[0;34m:\u001b[0m\u001b[0;34m\u001b[0m\u001b[0;34m\u001b[0m\u001b[0m\n\u001b[1;32m   1148\u001b[0m             \u001b[0;32mif\u001b[0m \u001b[0mtimeout\u001b[0m \u001b[0;32mis\u001b[0m \u001b[0;32mnot\u001b[0m \u001b[0;32mNone\u001b[0m\u001b[0;34m:\u001b[0m\u001b[0;34m\u001b[0m\u001b[0;34m\u001b[0m\u001b[0m\n",
            "\u001b[0;32m/usr/lib/python3.10/subprocess.py\u001b[0m in \u001b[0;36mwait\u001b[0;34m(self, timeout)\u001b[0m\n\u001b[1;32m   1207\u001b[0m             \u001b[0mendtime\u001b[0m \u001b[0;34m=\u001b[0m \u001b[0m_time\u001b[0m\u001b[0;34m(\u001b[0m\u001b[0;34m)\u001b[0m \u001b[0;34m+\u001b[0m \u001b[0mtimeout\u001b[0m\u001b[0;34m\u001b[0m\u001b[0;34m\u001b[0m\u001b[0m\n\u001b[1;32m   1208\u001b[0m         \u001b[0;32mtry\u001b[0m\u001b[0;34m:\u001b[0m\u001b[0;34m\u001b[0m\u001b[0;34m\u001b[0m\u001b[0m\n\u001b[0;32m-> 1209\u001b[0;31m             \u001b[0;32mreturn\u001b[0m \u001b[0mself\u001b[0m\u001b[0;34m.\u001b[0m\u001b[0m_wait\u001b[0m\u001b[0;34m(\u001b[0m\u001b[0mtimeout\u001b[0m\u001b[0;34m=\u001b[0m\u001b[0mtimeout\u001b[0m\u001b[0;34m)\u001b[0m\u001b[0;34m\u001b[0m\u001b[0;34m\u001b[0m\u001b[0m\n\u001b[0m\u001b[1;32m   1210\u001b[0m         \u001b[0;32mexcept\u001b[0m \u001b[0mKeyboardInterrupt\u001b[0m\u001b[0;34m:\u001b[0m\u001b[0;34m\u001b[0m\u001b[0;34m\u001b[0m\u001b[0m\n\u001b[1;32m   1211\u001b[0m             \u001b[0;31m# https://bugs.python.org/issue25942\u001b[0m\u001b[0;34m\u001b[0m\u001b[0;34m\u001b[0m\u001b[0m\n",
            "\u001b[0;32m/usr/lib/python3.10/subprocess.py\u001b[0m in \u001b[0;36m_wait\u001b[0;34m(self, timeout)\u001b[0m\n\u001b[1;32m   1957\u001b[0m                         \u001b[0;32mif\u001b[0m \u001b[0mself\u001b[0m\u001b[0;34m.\u001b[0m\u001b[0mreturncode\u001b[0m \u001b[0;32mis\u001b[0m \u001b[0;32mnot\u001b[0m \u001b[0;32mNone\u001b[0m\u001b[0;34m:\u001b[0m\u001b[0;34m\u001b[0m\u001b[0;34m\u001b[0m\u001b[0m\n\u001b[1;32m   1958\u001b[0m                             \u001b[0;32mbreak\u001b[0m  \u001b[0;31m# Another thread waited.\u001b[0m\u001b[0;34m\u001b[0m\u001b[0;34m\u001b[0m\u001b[0m\n\u001b[0;32m-> 1959\u001b[0;31m                         \u001b[0;34m(\u001b[0m\u001b[0mpid\u001b[0m\u001b[0;34m,\u001b[0m \u001b[0msts\u001b[0m\u001b[0;34m)\u001b[0m \u001b[0;34m=\u001b[0m \u001b[0mself\u001b[0m\u001b[0;34m.\u001b[0m\u001b[0m_try_wait\u001b[0m\u001b[0;34m(\u001b[0m\u001b[0;36m0\u001b[0m\u001b[0;34m)\u001b[0m\u001b[0;34m\u001b[0m\u001b[0;34m\u001b[0m\u001b[0m\n\u001b[0m\u001b[1;32m   1960\u001b[0m                         \u001b[0;31m# Check the pid and loop as waitpid has been known to\u001b[0m\u001b[0;34m\u001b[0m\u001b[0;34m\u001b[0m\u001b[0m\n\u001b[1;32m   1961\u001b[0m                         \u001b[0;31m# return 0 even without WNOHANG in odd situations.\u001b[0m\u001b[0;34m\u001b[0m\u001b[0;34m\u001b[0m\u001b[0m\n",
            "\u001b[0;32m/usr/lib/python3.10/subprocess.py\u001b[0m in \u001b[0;36m_try_wait\u001b[0;34m(self, wait_flags)\u001b[0m\n\u001b[1;32m   1915\u001b[0m             \u001b[0;34m\"\"\"All callers to this function MUST hold self._waitpid_lock.\"\"\"\u001b[0m\u001b[0;34m\u001b[0m\u001b[0;34m\u001b[0m\u001b[0m\n\u001b[1;32m   1916\u001b[0m             \u001b[0;32mtry\u001b[0m\u001b[0;34m:\u001b[0m\u001b[0;34m\u001b[0m\u001b[0;34m\u001b[0m\u001b[0m\n\u001b[0;32m-> 1917\u001b[0;31m                 \u001b[0;34m(\u001b[0m\u001b[0mpid\u001b[0m\u001b[0;34m,\u001b[0m \u001b[0msts\u001b[0m\u001b[0;34m)\u001b[0m \u001b[0;34m=\u001b[0m \u001b[0mos\u001b[0m\u001b[0;34m.\u001b[0m\u001b[0mwaitpid\u001b[0m\u001b[0;34m(\u001b[0m\u001b[0mself\u001b[0m\u001b[0;34m.\u001b[0m\u001b[0mpid\u001b[0m\u001b[0;34m,\u001b[0m \u001b[0mwait_flags\u001b[0m\u001b[0;34m)\u001b[0m\u001b[0;34m\u001b[0m\u001b[0;34m\u001b[0m\u001b[0m\n\u001b[0m\u001b[1;32m   1918\u001b[0m             \u001b[0;32mexcept\u001b[0m \u001b[0mChildProcessError\u001b[0m\u001b[0;34m:\u001b[0m\u001b[0;34m\u001b[0m\u001b[0;34m\u001b[0m\u001b[0m\n\u001b[1;32m   1919\u001b[0m                 \u001b[0;31m# This happens if SIGCLD is set to be ignored or waiting\u001b[0m\u001b[0;34m\u001b[0m\u001b[0;34m\u001b[0m\u001b[0m\n",
            "\u001b[0;31mKeyboardInterrupt\u001b[0m: "
          ]
        }
      ]
    },
    {
      "cell_type": "code",
      "source": [],
      "metadata": {
        "id": "OX33T-qonKxV"
      },
      "execution_count": null,
      "outputs": []
    }
  ]
}
