{
  "cells": [
    {
      "cell_type": "markdown",
      "metadata": {
        "id": "CzgqL0-Q9UNo"
      },
      "source": [
        "# Open-Unmix PyTorch\n",
        "\n",
        "![](https://sisec18.unmix.app/static/img/hero_header.4f28952.svg)"
      ]
    },
    {
      "cell_type": "markdown",
      "metadata": {
        "id": "62GqQkhyT7I0"
      },
      "source": [
        "__Open-Unmix__ is a deep neural network reference implementation for music source separation, applicable for researchers, audio engineers and artists. This notebook provides easy access to pre-trained models that allow users to separate pop music into four stems: __vocals__, __drums__, __bass__ and the remaining __other__ instruments. The models were trained on the [MUSDB18](https://sigsep.github.io/datasets/musdb.html) dataset.\n",
        "\n",
        "## The Model\n",
        "\n",
        "_Open-Unmix_ is based on a three-layer bidirectional deep LSTM. The model learns to predict the magnitude spectrogram of a target, like _vocals_, from the magnitude spectrogram of a mixture input. Internally, the prediction is obtained by applying a mask on the input. The model is optimized in the magnitude domain using mean squared error and the actual separation is done in a post-processing step involving a differentiable multichannel wiener filter. To perform separation into multiple sources, multiple models are trained for each particular target. While this makes the training less comfortable, it allows great flexibility to customize the training data for each target source.\n",
        "\n",
        "## How to run this notebook\n",
        "\n",
        "We provide four pre-trained models:\n",
        "\n",
        "* __`umxl` (default)__  trained on private stems dataset of compressed stems. __Note, that the weights are only licensed for non-commercial use (CC BY-NC-SA 4.0).__\n",
        "\n",
        "  [![DOI](https://zenodo.org/badge/DOI/10.5281/zenodo.5069601.svg)](https://doi.org/10.5281/zenodo.5069601)\n",
        "\n",
        "* __`umxhq`__  trained on [MUSDB18-HQ](https://sigsep.github.io/datasets/musdb.html#uncompressed-wav) which comprises the same tracks as in MUSDB18 but un-compressed which yield in a full bandwidth of 22050 Hz.\n",
        "\n",
        "  [![DOI](https://zenodo.org/badge/DOI/10.5281/zenodo.3267291.svg)](https://doi.org/10.5281/zenodo.3267291)\n",
        "\n",
        "* __`umx`__ is trained on the regular [MUSDB18](https://sigsep.github.io/datasets/musdb.html#compressed-stems) which is bandwidth limited to 16 kHz do to AAC compression. This model should be used for comparison with other (older) methods for evaluation in [SiSEC18](sisec18.unmix.app).\n",
        "\n",
        "  [![DOI](https://zenodo.org/badge/DOI/10.5281/zenodo.3340804.svg)](https://doi.org/10.5281/zenodo.3340804)\n",
        "\n",
        "* __`umxse`__ speech enhancement model is trained on the 28-speaker version of the [Voicebank+DEMAND corpus](https://datashare.is.ed.ac.uk/handle/10283/1942?show=full).\n",
        "\n",
        "  [![DOI](https://zenodo.org/badge/DOI/10.5281/zenodo.3786908.svg)](https://doi.org/10.5281/zenodo.3786908)\n",
        "\n",
        "All models are downloaded automatically.\n",
        "\n",
        "### Colab Limitations\n",
        "\n",
        "* The disk and RAM is limited in colab. Loading the four separation models `vocals`, `drums`, `bass` and `other` is already using 400 MB of disk and RAM.\n",
        "* A major step in the separation is the post-processing, contolled by the parameters `niter`. For faster inference (at the expense of separation quality) it is adviced to use `niter=0`.\n",
        "* Another way to prevent colab from crashing is to only perform separation on smaller excerpts. In the following examples we privide a way to set the start and stop duration of the audio being separated. We suggest __not to separate segements of longer than 30s__.\n",
        "\n"
      ]
    },
    {
      "cell_type": "markdown",
      "metadata": {
        "id": "N-026sn4gBPN"
      },
      "source": [
        "# Installation and Imports (RUN THESE CELLS FIRST)"
      ]
    },
    {
      "cell_type": "code",
      "execution_count": null,
      "metadata": {
        "colab": {
          "base_uri": "https://localhost:8080/"
        },
        "id": "CvF3oVR62ei7",
        "outputId": "11b5728f-c512-4bc3-8a9b-8061ed87c429"
      },
      "outputs": [
        {
          "output_type": "stream",
          "name": "stdout",
          "text": [
            "\u001b[2K   \u001b[90m━━━━━━━━━━━━━━━━━━━━━━━━━━━━━━━━━━━━━━━━\u001b[0m \u001b[32m963.5/963.5 kB\u001b[0m \u001b[31m45.2 MB/s\u001b[0m eta \u001b[36m0:00:00\u001b[0m\n",
            "\u001b[2K   \u001b[90m━━━━━━━━━━━━━━━━━━━━━━━━━━━━━━━━━━━━━━━━\u001b[0m \u001b[32m1.9/1.9 MB\u001b[0m \u001b[31m58.3 MB/s\u001b[0m eta \u001b[36m0:00:00\u001b[0m\n",
            "\u001b[2K   \u001b[90m━━━━━━━━━━━━━━━━━━━━━━━━━━━━━━━━━━━━━━━━\u001b[0m \u001b[32m40.0/40.0 kB\u001b[0m \u001b[31m2.9 MB/s\u001b[0m eta \u001b[36m0:00:00\u001b[0m\n",
            "\u001b[?25h"
          ]
        }
      ],
      "source": [
        "!pip install musdb -q\n",
        "!pip install youtube-dl -q\n",
        "!pip install openunmix -q\n",
        "!pip install stempeg -q"
      ]
    },
    {
      "cell_type": "code",
      "execution_count": null,
      "metadata": {
        "id": "-vSlkpwm3B6z"
      },
      "outputs": [],
      "source": [
        "import torch\n",
        "import torchaudio\n",
        "import numpy as np\n",
        "import scipy\n",
        "import youtube_dl\n",
        "import stempeg\n",
        "import os\n",
        "from google.colab import files\n",
        "from IPython.display import Audio, display\n",
        "\n",
        "use_cuda = torch.cuda.is_available()\n",
        "device = torch.device(\"cuda\" if use_cuda else \"cpu\")"
      ]
    },
    {
      "cell_type": "markdown",
      "metadata": {
        "id": "1b_uX0MnElFe"
      },
      "source": [
        "# Separate MUSIC tracks"
      ]
    },
    {
      "cell_type": "markdown",
      "metadata": {
        "id": "dR5kVtrPVSI0"
      },
      "source": [
        "Get a musdb18 7 second preview track"
      ]
    },
    {
      "cell_type": "code",
      "execution_count": null,
      "metadata": {
        "id": "f1K07IPfIKvu"
      },
      "outputs": [],
      "source": [
        "!pip install pydub -q"
      ]
    },
    {
      "cell_type": "code",
      "execution_count": null,
      "metadata": {
        "collapsed": true,
        "id": "TVXYaLmBMedZ"
      },
      "outputs": [],
      "source": [
        "# import musdb\n",
        "# mus = musdb.DB(download=True, subsets='test')\n",
        "\n",
        "# track = mus[49]\n",
        "# track.info"
      ]
    },
    {
      "cell_type": "code",
      "execution_count": null,
      "metadata": {
        "id": "4azv4mGLyfal"
      },
      "outputs": [],
      "source": [
        "import os\n",
        "import subprocess\n",
        "from openunmix import predict\n",
        "\n",
        "# Clone the repository\n",
        "repo_url = 'https://github.com/OlamideShogbamu/audiostemming.git'\n",
        "repo_dir = 'audiostemming'\n",
        "\n",
        "if not os.path.exists(repo_dir):\n",
        "    subprocess.run(['git', 'clone', repo_url])\n",
        "\n",
        "# Directory containing the songs\n",
        "songs_dir = os.path.join(repo_dir, 'inputdata')\n",
        "\n",
        "# List all songs in the directory\n",
        "songs = [f for f in os.listdir(songs_dir) if f.endswith('.mp3')]"
      ]
    },
    {
      "cell_type": "code",
      "execution_count": null,
      "metadata": {
        "id": "foMhODok01n8"
      },
      "outputs": [],
      "source": [
        "device = 'cuda' if torch.cuda.is_available() else 'cpu'\n",
        "\n",
        "# Function to process and display audio\n",
        "def process_audio(audio_path):\n",
        "    print(f\"Processing {audio_path}\")\n",
        "    waveform, sample_rate = torchaudio.load(audio_path)\n",
        "    #display(Audio(waveform.numpy(), rate=sample_rate))\n",
        "\n",
        "    estimates = predict.separate(\n",
        "        torch.tensor(waveform).float(),\n",
        "        rate=sample_rate,\n",
        "        device=device\n",
        "    )\n",
        "\n",
        "    output_directory = os.path.join('/content/drive/MyDrive/audio_stemming/OpenUnMix/outputdata', os.path.basename(audio_path).split('.')[0])\n",
        "    os.makedirs(output_directory, exist_ok=True)\n",
        "\n",
        "    for target, estimate in estimates.items():\n",
        "        print(target)\n",
        "        audio = estimate.detach().cpu().numpy()[0]\n",
        "        #display(Audio(audio, rate=sample_rate))\n",
        "\n",
        "        output_file = os.path.join(output_directory, f\"{target}.wav\")\n",
        "        torchaudio.save(output_file, torch.tensor(audio), sample_rate)\n",
        "        print(f\"Saved {target} to {output_file}\")"
      ]
    },
    {
      "cell_type": "code",
      "execution_count": null,
      "metadata": {
        "colab": {
          "base_uri": "https://localhost:8080/"
        },
        "id": "rxah2B0ujfh6",
        "outputId": "4f9111fc-10c2-4940-df6b-545cbb2bc608"
      },
      "outputs": [
        {
          "output_type": "stream",
          "name": "stdout",
          "text": [
            "Mounted at /content/drive\n"
          ]
        }
      ],
      "source": [
        "from google.colab import drive\n",
        "drive.mount('/content/drive')"
      ]
    },
    {
      "cell_type": "markdown",
      "metadata": {
        "id": "ZiptINdqedEA"
      },
      "source": []
    },
    {
      "cell_type": "code",
      "execution_count": null,
      "metadata": {
        "colab": {
          "base_uri": "https://localhost:8080/"
        },
        "id": "cPrPR81IVRM8",
        "outputId": "9bbfd1fb-d0af-41d3-ec0a-c9f900199685",
        "collapsed": true
      },
      "outputs": [
        {
          "output_type": "stream",
          "name": "stdout",
          "text": [
            "Processing /content/audiostemming/inputdata/Beautiful-Nubia-Beriwon2.mp3\n"
          ]
        },
        {
          "output_type": "stream",
          "name": "stderr",
          "text": [
            "<ipython-input-7-8964f56fb34c>:10: UserWarning: To copy construct from a tensor, it is recommended to use sourceTensor.clone().detach() or sourceTensor.clone().detach().requires_grad_(True), rather than torch.tensor(sourceTensor).\n",
            "  torch.tensor(waveform).float(),\n",
            "Downloading: \"https://zenodo.org/records/5069601/files/vocals-bccbd9aa.pth\" to /root/.cache/torch/hub/checkpoints/vocals-bccbd9aa.pth\n",
            "100%|██████████| 108M/108M [00:07<00:00, 14.3MB/s]\n",
            "Downloading: \"https://zenodo.org/records/5069601/files/drums-69e0ebd4.pth\" to /root/.cache/torch/hub/checkpoints/drums-69e0ebd4.pth\n",
            "100%|██████████| 108M/108M [00:08<00:00, 13.8MB/s]\n",
            "Downloading: \"https://zenodo.org/records/5069601/files/bass-2ca1ce51.pth\" to /root/.cache/torch/hub/checkpoints/bass-2ca1ce51.pth\n",
            "100%|██████████| 108M/108M [00:08<00:00, 13.5MB/s]\n",
            "Downloading: \"https://zenodo.org/records/5069601/files/other-c8c5b3e6.pth\" to /root/.cache/torch/hub/checkpoints/other-c8c5b3e6.pth\n",
            "100%|██████████| 108M/108M [00:11<00:00, 9.43MB/s]\n",
            "/usr/local/lib/python3.10/dist-packages/openunmix/utils.py:297: UserWarning: resample to model sample rate\n",
            "  warnings.warn(\"resample to model sample rate\")\n",
            "/usr/local/lib/python3.10/dist-packages/openunmix/utils.py:300: UserWarning: \"sinc_interpolation\" resampling method name is being deprecated and replaced by \"sinc_interp_hann\" in the next release. The default behavior remains unchanged.\n",
            "  resampler = torchaudio.transforms.Resample(\n"
          ]
        },
        {
          "output_type": "stream",
          "name": "stdout",
          "text": [
            "vocals\n",
            "Saved vocals to /content/drive/MyDrive/audio_stemming/OpenUnMix/outputdata/Beautiful-Nubia-Beriwon2/vocals.wav\n",
            "drums\n",
            "Saved drums to /content/drive/MyDrive/audio_stemming/OpenUnMix/outputdata/Beautiful-Nubia-Beriwon2/drums.wav\n",
            "bass\n",
            "Saved bass to /content/drive/MyDrive/audio_stemming/OpenUnMix/outputdata/Beautiful-Nubia-Beriwon2/bass.wav\n",
            "other\n",
            "Saved other to /content/drive/MyDrive/audio_stemming/OpenUnMix/outputdata/Beautiful-Nubia-Beriwon2/other.wav\n",
            "Processing /content/audiostemming/inputdata/Beautiful-Nubia-MaBaWonSo.mp3\n",
            "vocals\n",
            "Saved vocals to /content/drive/MyDrive/audio_stemming/OpenUnMix/outputdata/Beautiful-Nubia-MaBaWonSo/vocals.wav\n",
            "drums\n",
            "Saved drums to /content/drive/MyDrive/audio_stemming/OpenUnMix/outputdata/Beautiful-Nubia-MaBaWonSo/drums.wav\n",
            "bass\n",
            "Saved bass to /content/drive/MyDrive/audio_stemming/OpenUnMix/outputdata/Beautiful-Nubia-MaBaWonSo/bass.wav\n",
            "other\n",
            "Saved other to /content/drive/MyDrive/audio_stemming/OpenUnMix/outputdata/Beautiful-Nubia-MaBaWonSo/other.wav\n",
            "Processing /content/audiostemming/inputdata/KayodeFashola-RantiomoEniTiwoNSe1.mp3\n",
            "vocals\n",
            "Saved vocals to /content/drive/MyDrive/audio_stemming/OpenUnMix/outputdata/KayodeFashola-RantiomoEniTiwoNSe1/vocals.wav\n",
            "drums\n",
            "Saved drums to /content/drive/MyDrive/audio_stemming/OpenUnMix/outputdata/KayodeFashola-RantiomoEniTiwoNSe1/drums.wav\n",
            "bass\n",
            "Saved bass to /content/drive/MyDrive/audio_stemming/OpenUnMix/outputdata/KayodeFashola-RantiomoEniTiwoNSe1/bass.wav\n",
            "other\n",
            "Saved other to /content/drive/MyDrive/audio_stemming/OpenUnMix/outputdata/KayodeFashola-RantiomoEniTiwoNSe1/other.wav\n",
            "Processing /content/audiostemming/inputdata/Lgbaja-TounTerin1.mp3\n",
            "vocals\n",
            "Saved vocals to /content/drive/MyDrive/audio_stemming/OpenUnMix/outputdata/Lgbaja-TounTerin1/vocals.wav\n",
            "drums\n",
            "Saved drums to /content/drive/MyDrive/audio_stemming/OpenUnMix/outputdata/Lgbaja-TounTerin1/drums.wav\n",
            "bass\n",
            "Saved bass to /content/drive/MyDrive/audio_stemming/OpenUnMix/outputdata/Lgbaja-TounTerin1/bass.wav\n",
            "other\n",
            "Saved other to /content/drive/MyDrive/audio_stemming/OpenUnMix/outputdata/Lgbaja-TounTerin1/other.wav\n",
            "Processing /content/audiostemming/inputdata/Kayode-Fashola-BiPepeyeBaJokuta3.mp3\n",
            "vocals\n",
            "Saved vocals to /content/drive/MyDrive/audio_stemming/OpenUnMix/outputdata/Kayode-Fashola-BiPepeyeBaJokuta3/vocals.wav\n",
            "drums\n",
            "Saved drums to /content/drive/MyDrive/audio_stemming/OpenUnMix/outputdata/Kayode-Fashola-BiPepeyeBaJokuta3/drums.wav\n",
            "bass\n",
            "Saved bass to /content/drive/MyDrive/audio_stemming/OpenUnMix/outputdata/Kayode-Fashola-BiPepeyeBaJokuta3/bass.wav\n",
            "other\n",
            "Saved other to /content/drive/MyDrive/audio_stemming/OpenUnMix/outputdata/Kayode-Fashola-BiPepeyeBaJokuta3/other.wav\n",
            "Processing /content/audiostemming/inputdata/Jimi-Solanke-BaRẹNíJọYèO.mp3\n",
            "vocals\n",
            "Saved vocals to /content/drive/MyDrive/audio_stemming/OpenUnMix/outputdata/Jimi-Solanke-BaRẹNíJọYèO/vocals.wav\n",
            "drums\n",
            "Saved drums to /content/drive/MyDrive/audio_stemming/OpenUnMix/outputdata/Jimi-Solanke-BaRẹNíJọYèO/drums.wav\n",
            "bass\n",
            "Saved bass to /content/drive/MyDrive/audio_stemming/OpenUnMix/outputdata/Jimi-Solanke-BaRẹNíJọYèO/bass.wav\n",
            "other\n",
            "Saved other to /content/drive/MyDrive/audio_stemming/OpenUnMix/outputdata/Jimi-Solanke-BaRẹNíJọYèO/other.wav\n",
            "Processing /content/audiostemming/inputdata/Musilihu-Ishola-OponApala2.mp3\n",
            "vocals\n",
            "Saved vocals to /content/drive/MyDrive/audio_stemming/OpenUnMix/outputdata/Musilihu-Ishola-OponApala2/vocals.wav\n",
            "drums\n",
            "Saved drums to /content/drive/MyDrive/audio_stemming/OpenUnMix/outputdata/Musilihu-Ishola-OponApala2/drums.wav\n",
            "bass\n",
            "Saved bass to /content/drive/MyDrive/audio_stemming/OpenUnMix/outputdata/Musilihu-Ishola-OponApala2/bass.wav\n",
            "other\n",
            "Saved other to /content/drive/MyDrive/audio_stemming/OpenUnMix/outputdata/Musilihu-Ishola-OponApala2/other.wav\n",
            "Processing /content/audiostemming/inputdata/Musilihu-Ishola-OponApala1.mp3\n",
            "vocals\n",
            "Saved vocals to /content/drive/MyDrive/audio_stemming/OpenUnMix/outputdata/Musilihu-Ishola-OponApala1/vocals.wav\n",
            "drums\n",
            "Saved drums to /content/drive/MyDrive/audio_stemming/OpenUnMix/outputdata/Musilihu-Ishola-OponApala1/drums.wav\n",
            "bass\n",
            "Saved bass to /content/drive/MyDrive/audio_stemming/OpenUnMix/outputdata/Musilihu-Ishola-OponApala1/bass.wav\n",
            "other\n",
            "Saved other to /content/drive/MyDrive/audio_stemming/OpenUnMix/outputdata/Musilihu-Ishola-OponApala1/other.wav\n",
            "Processing /content/audiostemming/inputdata/Musilihu-Ishola-IseOluwa1.mp3\n",
            "vocals\n",
            "Saved vocals to /content/drive/MyDrive/audio_stemming/OpenUnMix/outputdata/Musilihu-Ishola-IseOluwa1/vocals.wav\n",
            "drums\n",
            "Saved drums to /content/drive/MyDrive/audio_stemming/OpenUnMix/outputdata/Musilihu-Ishola-IseOluwa1/drums.wav\n",
            "bass\n",
            "Saved bass to /content/drive/MyDrive/audio_stemming/OpenUnMix/outputdata/Musilihu-Ishola-IseOluwa1/bass.wav\n",
            "other\n",
            "Saved other to /content/drive/MyDrive/audio_stemming/OpenUnMix/outputdata/Musilihu-Ishola-IseOluwa1/other.wav\n",
            "Processing /content/audiostemming/inputdata/small_peoples_anthem.mp3\n",
            "vocals\n",
            "Saved vocals to /content/drive/MyDrive/audio_stemming/OpenUnMix/outputdata/small_peoples_anthem/vocals.wav\n",
            "drums\n",
            "Saved drums to /content/drive/MyDrive/audio_stemming/OpenUnMix/outputdata/small_peoples_anthem/drums.wav\n",
            "bass\n",
            "Saved bass to /content/drive/MyDrive/audio_stemming/OpenUnMix/outputdata/small_peoples_anthem/bass.wav\n",
            "other\n",
            "Saved other to /content/drive/MyDrive/audio_stemming/OpenUnMix/outputdata/small_peoples_anthem/other.wav\n",
            "Processing /content/audiostemming/inputdata/Haruna-Ishola-OrokiSocialClub6.mp3\n",
            "vocals\n",
            "Saved vocals to /content/drive/MyDrive/audio_stemming/OpenUnMix/outputdata/Haruna-Ishola-OrokiSocialClub6/vocals.wav\n",
            "drums\n",
            "Saved drums to /content/drive/MyDrive/audio_stemming/OpenUnMix/outputdata/Haruna-Ishola-OrokiSocialClub6/drums.wav\n",
            "bass\n",
            "Saved bass to /content/drive/MyDrive/audio_stemming/OpenUnMix/outputdata/Haruna-Ishola-OrokiSocialClub6/bass.wav\n",
            "other\n",
            "Saved other to /content/drive/MyDrive/audio_stemming/OpenUnMix/outputdata/Haruna-Ishola-OrokiSocialClub6/other.wav\n",
            "Processing /content/audiostemming/inputdata/Beautiful-Nubia-IkokoAkufo2.mp3\n",
            "vocals\n",
            "Saved vocals to /content/drive/MyDrive/audio_stemming/OpenUnMix/outputdata/Beautiful-Nubia-IkokoAkufo2/vocals.wav\n",
            "drums\n",
            "Saved drums to /content/drive/MyDrive/audio_stemming/OpenUnMix/outputdata/Beautiful-Nubia-IkokoAkufo2/drums.wav\n",
            "bass\n",
            "Saved bass to /content/drive/MyDrive/audio_stemming/OpenUnMix/outputdata/Beautiful-Nubia-IkokoAkufo2/bass.wav\n",
            "other\n",
            "Saved other to /content/drive/MyDrive/audio_stemming/OpenUnMix/outputdata/Beautiful-Nubia-IkokoAkufo2/other.wav\n",
            "Processing /content/audiostemming/inputdata/Beautiful-Nubia-Beriwon1.mp3\n",
            "vocals\n",
            "Saved vocals to /content/drive/MyDrive/audio_stemming/OpenUnMix/outputdata/Beautiful-Nubia-Beriwon1/vocals.wav\n",
            "drums\n",
            "Saved drums to /content/drive/MyDrive/audio_stemming/OpenUnMix/outputdata/Beautiful-Nubia-Beriwon1/drums.wav\n",
            "bass\n",
            "Saved bass to /content/drive/MyDrive/audio_stemming/OpenUnMix/outputdata/Beautiful-Nubia-Beriwon1/bass.wav\n",
            "other\n",
            "Saved other to /content/drive/MyDrive/audio_stemming/OpenUnMix/outputdata/Beautiful-Nubia-Beriwon1/other.wav\n",
            "Processing /content/audiostemming/inputdata/Beautiful-Nubia-IkokoAkufo1.mp3\n",
            "vocals\n",
            "Saved vocals to /content/drive/MyDrive/audio_stemming/OpenUnMix/outputdata/Beautiful-Nubia-IkokoAkufo1/vocals.wav\n",
            "drums\n",
            "Saved drums to /content/drive/MyDrive/audio_stemming/OpenUnMix/outputdata/Beautiful-Nubia-IkokoAkufo1/drums.wav\n",
            "bass\n",
            "Saved bass to /content/drive/MyDrive/audio_stemming/OpenUnMix/outputdata/Beautiful-Nubia-IkokoAkufo1/bass.wav\n",
            "other\n",
            "Saved other to /content/drive/MyDrive/audio_stemming/OpenUnMix/outputdata/Beautiful-Nubia-IkokoAkufo1/other.wav\n",
            "Processing /content/audiostemming/inputdata/Haruna-Ishola-InaRan2.mp3\n",
            "vocals\n",
            "Saved vocals to /content/drive/MyDrive/audio_stemming/OpenUnMix/outputdata/Haruna-Ishola-InaRan2/vocals.wav\n",
            "drums\n",
            "Saved drums to /content/drive/MyDrive/audio_stemming/OpenUnMix/outputdata/Haruna-Ishola-InaRan2/drums.wav\n",
            "bass\n",
            "Saved bass to /content/drive/MyDrive/audio_stemming/OpenUnMix/outputdata/Haruna-Ishola-InaRan2/bass.wav\n",
            "other\n",
            "Saved other to /content/drive/MyDrive/audio_stemming/OpenUnMix/outputdata/Haruna-Ishola-InaRan2/other.wav\n",
            "Processing /content/audiostemming/inputdata/Haruna-Ishola-OrokiSocialClub3.mp3\n",
            "vocals\n",
            "Saved vocals to /content/drive/MyDrive/audio_stemming/OpenUnMix/outputdata/Haruna-Ishola-OrokiSocialClub3/vocals.wav\n",
            "drums\n",
            "Saved drums to /content/drive/MyDrive/audio_stemming/OpenUnMix/outputdata/Haruna-Ishola-OrokiSocialClub3/drums.wav\n",
            "bass\n",
            "Saved bass to /content/drive/MyDrive/audio_stemming/OpenUnMix/outputdata/Haruna-Ishola-OrokiSocialClub3/bass.wav\n",
            "other\n",
            "Saved other to /content/drive/MyDrive/audio_stemming/OpenUnMix/outputdata/Haruna-Ishola-OrokiSocialClub3/other.wav\n",
            "Processing /content/audiostemming/inputdata/Lgbaja-TounTerin2.mp3\n",
            "vocals\n",
            "Saved vocals to /content/drive/MyDrive/audio_stemming/OpenUnMix/outputdata/Lgbaja-TounTerin2/vocals.wav\n",
            "drums\n",
            "Saved drums to /content/drive/MyDrive/audio_stemming/OpenUnMix/outputdata/Lgbaja-TounTerin2/drums.wav\n",
            "bass\n",
            "Saved bass to /content/drive/MyDrive/audio_stemming/OpenUnMix/outputdata/Lgbaja-TounTerin2/bass.wav\n",
            "other\n",
            "Saved other to /content/drive/MyDrive/audio_stemming/OpenUnMix/outputdata/Lgbaja-TounTerin2/other.wav\n",
            "Processing /content/audiostemming/inputdata/Jimmy-Solanke-EJeKaJo1.mp3\n",
            "vocals\n",
            "Saved vocals to /content/drive/MyDrive/audio_stemming/OpenUnMix/outputdata/Jimmy-Solanke-EJeKaJo1/vocals.wav\n",
            "drums\n",
            "Saved drums to /content/drive/MyDrive/audio_stemming/OpenUnMix/outputdata/Jimmy-Solanke-EJeKaJo1/drums.wav\n",
            "bass\n",
            "Saved bass to /content/drive/MyDrive/audio_stemming/OpenUnMix/outputdata/Jimmy-Solanke-EJeKaJo1/bass.wav\n",
            "other\n",
            "Saved other to /content/drive/MyDrive/audio_stemming/OpenUnMix/outputdata/Jimmy-Solanke-EJeKaJo1/other.wav\n",
            "Processing /content/audiostemming/inputdata/Haruna-Ishola-OrokiSocialClub5.mp3\n",
            "vocals\n",
            "Saved vocals to /content/drive/MyDrive/audio_stemming/OpenUnMix/outputdata/Haruna-Ishola-OrokiSocialClub5/vocals.wav\n",
            "drums\n",
            "Saved drums to /content/drive/MyDrive/audio_stemming/OpenUnMix/outputdata/Haruna-Ishola-OrokiSocialClub5/drums.wav\n",
            "bass\n",
            "Saved bass to /content/drive/MyDrive/audio_stemming/OpenUnMix/outputdata/Haruna-Ishola-OrokiSocialClub5/bass.wav\n",
            "other\n",
            "Saved other to /content/drive/MyDrive/audio_stemming/OpenUnMix/outputdata/Haruna-Ishola-OrokiSocialClub5/other.wav\n",
            "Processing /content/audiostemming/inputdata/Lagbaja-FeyinE1.mp3\n",
            "vocals\n",
            "Saved vocals to /content/drive/MyDrive/audio_stemming/OpenUnMix/outputdata/Lagbaja-FeyinE1/vocals.wav\n",
            "drums\n",
            "Saved drums to /content/drive/MyDrive/audio_stemming/OpenUnMix/outputdata/Lagbaja-FeyinE1/drums.wav\n",
            "bass\n",
            "Saved bass to /content/drive/MyDrive/audio_stemming/OpenUnMix/outputdata/Lagbaja-FeyinE1/bass.wav\n",
            "other\n",
            "Saved other to /content/drive/MyDrive/audio_stemming/OpenUnMix/outputdata/Lagbaja-FeyinE1/other.wav\n",
            "Processing /content/audiostemming/inputdata/Beautiful-Nubia-IkokoAkufo3.mp3\n",
            "vocals\n",
            "Saved vocals to /content/drive/MyDrive/audio_stemming/OpenUnMix/outputdata/Beautiful-Nubia-IkokoAkufo3/vocals.wav\n",
            "drums\n",
            "Saved drums to /content/drive/MyDrive/audio_stemming/OpenUnMix/outputdata/Beautiful-Nubia-IkokoAkufo3/drums.wav\n",
            "bass\n",
            "Saved bass to /content/drive/MyDrive/audio_stemming/OpenUnMix/outputdata/Beautiful-Nubia-IkokoAkufo3/bass.wav\n",
            "other\n",
            "Saved other to /content/drive/MyDrive/audio_stemming/OpenUnMix/outputdata/Beautiful-Nubia-IkokoAkufo3/other.wav\n",
            "Processing /content/audiostemming/inputdata/Beautiful-Nubia-OwuroLojo1.mp3\n",
            "vocals\n",
            "Saved vocals to /content/drive/MyDrive/audio_stemming/OpenUnMix/outputdata/Beautiful-Nubia-OwuroLojo1/vocals.wav\n",
            "drums\n",
            "Saved drums to /content/drive/MyDrive/audio_stemming/OpenUnMix/outputdata/Beautiful-Nubia-OwuroLojo1/drums.wav\n",
            "bass\n",
            "Saved bass to /content/drive/MyDrive/audio_stemming/OpenUnMix/outputdata/Beautiful-Nubia-OwuroLojo1/bass.wav\n",
            "other\n",
            "Saved other to /content/drive/MyDrive/audio_stemming/OpenUnMix/outputdata/Beautiful-Nubia-OwuroLojo1/other.wav\n",
            "Processing /content/audiostemming/inputdata/Shina-Peters-Shinamania3.mp3\n",
            "vocals\n",
            "Saved vocals to /content/drive/MyDrive/audio_stemming/OpenUnMix/outputdata/Shina-Peters-Shinamania3/vocals.wav\n",
            "drums\n",
            "Saved drums to /content/drive/MyDrive/audio_stemming/OpenUnMix/outputdata/Shina-Peters-Shinamania3/drums.wav\n",
            "bass\n",
            "Saved bass to /content/drive/MyDrive/audio_stemming/OpenUnMix/outputdata/Shina-Peters-Shinamania3/bass.wav\n",
            "other\n",
            "Saved other to /content/drive/MyDrive/audio_stemming/OpenUnMix/outputdata/Shina-Peters-Shinamania3/other.wav\n",
            "Processing /content/audiostemming/inputdata/Ebenezer-Obey-IbaFoluwaAjokodabiIle2.mp3\n",
            "vocals\n",
            "Saved vocals to /content/drive/MyDrive/audio_stemming/OpenUnMix/outputdata/Ebenezer-Obey-IbaFoluwaAjokodabiIle2/vocals.wav\n",
            "drums\n",
            "Saved drums to /content/drive/MyDrive/audio_stemming/OpenUnMix/outputdata/Ebenezer-Obey-IbaFoluwaAjokodabiIle2/drums.wav\n",
            "bass\n",
            "Saved bass to /content/drive/MyDrive/audio_stemming/OpenUnMix/outputdata/Ebenezer-Obey-IbaFoluwaAjokodabiIle2/bass.wav\n",
            "other\n",
            "Saved other to /content/drive/MyDrive/audio_stemming/OpenUnMix/outputdata/Ebenezer-Obey-IbaFoluwaAjokodabiIle2/other.wav\n",
            "Processing /content/audiostemming/inputdata/Haruna-Ishola-OrokiSocialClub1.mp3\n",
            "vocals\n",
            "Saved vocals to /content/drive/MyDrive/audio_stemming/OpenUnMix/outputdata/Haruna-Ishola-OrokiSocialClub1/vocals.wav\n",
            "drums\n",
            "Saved drums to /content/drive/MyDrive/audio_stemming/OpenUnMix/outputdata/Haruna-Ishola-OrokiSocialClub1/drums.wav\n",
            "bass\n",
            "Saved bass to /content/drive/MyDrive/audio_stemming/OpenUnMix/outputdata/Haruna-Ishola-OrokiSocialClub1/bass.wav\n",
            "other\n",
            "Saved other to /content/drive/MyDrive/audio_stemming/OpenUnMix/outputdata/Haruna-Ishola-OrokiSocialClub1/other.wav\n",
            "Processing /content/audiostemming/inputdata/Haruna-Ishola-InaRan1.mp3\n",
            "vocals\n",
            "Saved vocals to /content/drive/MyDrive/audio_stemming/OpenUnMix/outputdata/Haruna-Ishola-InaRan1/vocals.wav\n",
            "drums\n",
            "Saved drums to /content/drive/MyDrive/audio_stemming/OpenUnMix/outputdata/Haruna-Ishola-InaRan1/drums.wav\n",
            "bass\n",
            "Saved bass to /content/drive/MyDrive/audio_stemming/OpenUnMix/outputdata/Haruna-Ishola-InaRan1/bass.wav\n",
            "other\n",
            "Saved other to /content/drive/MyDrive/audio_stemming/OpenUnMix/outputdata/Haruna-Ishola-InaRan1/other.wav\n",
            "Processing /content/audiostemming/inputdata/Kayode-Fashola-BiPepeyeBaJokuta1.mp3\n",
            "vocals\n",
            "Saved vocals to /content/drive/MyDrive/audio_stemming/OpenUnMix/outputdata/Kayode-Fashola-BiPepeyeBaJokuta1/vocals.wav\n",
            "drums\n",
            "Saved drums to /content/drive/MyDrive/audio_stemming/OpenUnMix/outputdata/Kayode-Fashola-BiPepeyeBaJokuta1/drums.wav\n",
            "bass\n",
            "Saved bass to /content/drive/MyDrive/audio_stemming/OpenUnMix/outputdata/Kayode-Fashola-BiPepeyeBaJokuta1/bass.wav\n",
            "other\n",
            "Saved other to /content/drive/MyDrive/audio_stemming/OpenUnMix/outputdata/Kayode-Fashola-BiPepeyeBaJokuta1/other.wav\n",
            "Processing /content/audiostemming/inputdata/Musilihu-Ishola-IseOluwa2.mp3\n",
            "vocals\n",
            "Saved vocals to /content/drive/MyDrive/audio_stemming/OpenUnMix/outputdata/Musilihu-Ishola-IseOluwa2/vocals.wav\n",
            "drums\n",
            "Saved drums to /content/drive/MyDrive/audio_stemming/OpenUnMix/outputdata/Musilihu-Ishola-IseOluwa2/drums.wav\n",
            "bass\n",
            "Saved bass to /content/drive/MyDrive/audio_stemming/OpenUnMix/outputdata/Musilihu-Ishola-IseOluwa2/bass.wav\n",
            "other\n",
            "Saved other to /content/drive/MyDrive/audio_stemming/OpenUnMix/outputdata/Musilihu-Ishola-IseOluwa2/other.wav\n",
            "Processing /content/audiostemming/inputdata/Haruna-Ishola-OrokiSocialClub2.mp3\n",
            "vocals\n",
            "Saved vocals to /content/drive/MyDrive/audio_stemming/OpenUnMix/outputdata/Haruna-Ishola-OrokiSocialClub2/vocals.wav\n",
            "drums\n",
            "Saved drums to /content/drive/MyDrive/audio_stemming/OpenUnMix/outputdata/Haruna-Ishola-OrokiSocialClub2/drums.wav\n",
            "bass\n",
            "Saved bass to /content/drive/MyDrive/audio_stemming/OpenUnMix/outputdata/Haruna-Ishola-OrokiSocialClub2/bass.wav\n",
            "other\n",
            "Saved other to /content/drive/MyDrive/audio_stemming/OpenUnMix/outputdata/Haruna-Ishola-OrokiSocialClub2/other.wav\n",
            "Processing /content/audiostemming/inputdata/Tunji-Oyelana-OketeOMaYinboSoloko.mp3\n",
            "vocals\n",
            "Saved vocals to /content/drive/MyDrive/audio_stemming/OpenUnMix/outputdata/Tunji-Oyelana-OketeOMaYinboSoloko/vocals.wav\n",
            "drums\n",
            "Saved drums to /content/drive/MyDrive/audio_stemming/OpenUnMix/outputdata/Tunji-Oyelana-OketeOMaYinboSoloko/drums.wav\n",
            "bass\n",
            "Saved bass to /content/drive/MyDrive/audio_stemming/OpenUnMix/outputdata/Tunji-Oyelana-OketeOMaYinboSoloko/bass.wav\n",
            "other\n",
            "Saved other to /content/drive/MyDrive/audio_stemming/OpenUnMix/outputdata/Tunji-Oyelana-OketeOMaYinboSoloko/other.wav\n",
            "Processing /content/audiostemming/inputdata/Haruna-Ishola-OrokiSocialClub4.mp3\n",
            "vocals\n",
            "Saved vocals to /content/drive/MyDrive/audio_stemming/OpenUnMix/outputdata/Haruna-Ishola-OrokiSocialClub4/vocals.wav\n",
            "drums\n",
            "Saved drums to /content/drive/MyDrive/audio_stemming/OpenUnMix/outputdata/Haruna-Ishola-OrokiSocialClub4/drums.wav\n",
            "bass\n",
            "Saved bass to /content/drive/MyDrive/audio_stemming/OpenUnMix/outputdata/Haruna-Ishola-OrokiSocialClub4/bass.wav\n",
            "other\n",
            "Saved other to /content/drive/MyDrive/audio_stemming/OpenUnMix/outputdata/Haruna-Ishola-OrokiSocialClub4/other.wav\n",
            "Processing /content/audiostemming/inputdata/Shina-Peters-Shinamania1.mp3\n",
            "vocals\n",
            "Saved vocals to /content/drive/MyDrive/audio_stemming/OpenUnMix/outputdata/Shina-Peters-Shinamania1/vocals.wav\n",
            "drums\n",
            "Saved drums to /content/drive/MyDrive/audio_stemming/OpenUnMix/outputdata/Shina-Peters-Shinamania1/drums.wav\n",
            "bass\n",
            "Saved bass to /content/drive/MyDrive/audio_stemming/OpenUnMix/outputdata/Shina-Peters-Shinamania1/bass.wav\n",
            "other\n",
            "Saved other to /content/drive/MyDrive/audio_stemming/OpenUnMix/outputdata/Shina-Peters-Shinamania1/other.wav\n",
            "Processing /content/audiostemming/inputdata/Kayode-Fashola-RantiomoEniTiwoNSe2.mp3\n",
            "vocals\n",
            "Saved vocals to /content/drive/MyDrive/audio_stemming/OpenUnMix/outputdata/Kayode-Fashola-RantiomoEniTiwoNSe2/vocals.wav\n",
            "drums\n",
            "Saved drums to /content/drive/MyDrive/audio_stemming/OpenUnMix/outputdata/Kayode-Fashola-RantiomoEniTiwoNSe2/drums.wav\n",
            "bass\n",
            "Saved bass to /content/drive/MyDrive/audio_stemming/OpenUnMix/outputdata/Kayode-Fashola-RantiomoEniTiwoNSe2/bass.wav\n",
            "other\n",
            "Saved other to /content/drive/MyDrive/audio_stemming/OpenUnMix/outputdata/Kayode-Fashola-RantiomoEniTiwoNSe2/other.wav\n",
            "Processing /content/audiostemming/inputdata/Wasiu-Ayinde-IyonuOlorun1.mp3\n",
            "vocals\n",
            "Saved vocals to /content/drive/MyDrive/audio_stemming/OpenUnMix/outputdata/Wasiu-Ayinde-IyonuOlorun1/vocals.wav\n",
            "drums\n",
            "Saved drums to /content/drive/MyDrive/audio_stemming/OpenUnMix/outputdata/Wasiu-Ayinde-IyonuOlorun1/drums.wav\n",
            "bass\n",
            "Saved bass to /content/drive/MyDrive/audio_stemming/OpenUnMix/outputdata/Wasiu-Ayinde-IyonuOlorun1/bass.wav\n",
            "other\n",
            "Saved other to /content/drive/MyDrive/audio_stemming/OpenUnMix/outputdata/Wasiu-Ayinde-IyonuOlorun1/other.wav\n",
            "Processing /content/audiostemming/inputdata/Ebenezer-Obey-IbaFoluwaAjokodabiIle1.mp3\n",
            "vocals\n",
            "Saved vocals to /content/drive/MyDrive/audio_stemming/OpenUnMix/outputdata/Ebenezer-Obey-IbaFoluwaAjokodabiIle1/vocals.wav\n",
            "drums\n",
            "Saved drums to /content/drive/MyDrive/audio_stemming/OpenUnMix/outputdata/Ebenezer-Obey-IbaFoluwaAjokodabiIle1/drums.wav\n",
            "bass\n",
            "Saved bass to /content/drive/MyDrive/audio_stemming/OpenUnMix/outputdata/Ebenezer-Obey-IbaFoluwaAjokodabiIle1/bass.wav\n",
            "other\n",
            "Saved other to /content/drive/MyDrive/audio_stemming/OpenUnMix/outputdata/Ebenezer-Obey-IbaFoluwaAjokodabiIle1/other.wav\n",
            "Processing /content/audiostemming/inputdata/Shina-Peters-Shinamania2.mp3\n",
            "vocals\n",
            "Saved vocals to /content/drive/MyDrive/audio_stemming/OpenUnMix/outputdata/Shina-Peters-Shinamania2/vocals.wav\n",
            "drums\n",
            "Saved drums to /content/drive/MyDrive/audio_stemming/OpenUnMix/outputdata/Shina-Peters-Shinamania2/drums.wav\n",
            "bass\n",
            "Saved bass to /content/drive/MyDrive/audio_stemming/OpenUnMix/outputdata/Shina-Peters-Shinamania2/bass.wav\n",
            "other\n",
            "Saved other to /content/drive/MyDrive/audio_stemming/OpenUnMix/outputdata/Shina-Peters-Shinamania2/other.wav\n"
          ]
        }
      ],
      "source": [
        "from tqdm import tqdm\n",
        "from pydub import AudioSegment\n",
        "from IPython.display import display, Audio\n",
        "\n",
        "input_directory = \"/content/audiostemming/inputdata/\"\n",
        "output_directory = \"/content/drive/MyDrive/audio_stemming/OpenUnMix/outputdata\"\n",
        "\n",
        "# Create the output directory if it doesn't exist\n",
        "os.makedirs(output_directory, exist_ok=True)\n",
        "\n",
        "# Load the audio file\n",
        "for song in tqdm(songs, desc=\"Processing songs\", unit=\"file\", leave=False, disable=True):\n",
        "    input_file = os.path.join(input_directory, song)\n",
        "    process_audio(input_file)"
      ]
    },
    {
      "cell_type": "code",
      "execution_count": null,
      "metadata": {
        "id": "IGDtsuqdajv6"
      },
      "outputs": [],
      "source": [
        "import shutil\n",
        "\n",
        "output_dir = \"/content/drive/MyDrive/audio_stemming/WUN/output.zip\"\n",
        "zip_filename = \"/content/drive/MyDrive/audio_stemming/WUN/output.zip\"\n",
        "\n",
        "shutil.make_archive(output_dir, 'zip', output_dir)"
      ]
    },
    {
      "cell_type": "code",
      "execution_count": null,
      "metadata": {
        "id": "OZpK2_6LGAzk"
      },
      "outputs": [],
      "source": []
    },
    {
      "cell_type": "markdown",
      "metadata": {
        "id": "4rh8W7jZVbfF"
      },
      "source": [
        "###Apply separation into four stems\n",
        "\n",
        "open-unmix is auto-downloading a model for each available target:\n",
        "\n",
        "* vocals\n",
        "* drums\n",
        "* bass\n",
        "* other"
      ]
    },
    {
      "cell_type": "code",
      "execution_count": null,
      "metadata": {
        "id": "vQJkMHKP3qUH"
      },
      "outputs": [],
      "source": [
        "\n",
        "estimates = predict.separate(\n",
        "    torch.tensor(waveform).float(),\n",
        "    rate=sample_rate,\n",
        "    device=device\n",
        ")\n",
        "for target, estimate in estimates.items():\n",
        "    print(target)\n",
        "    audio = estimate.detach().cpu().numpy()[0]\n",
        "    display(Audio(audio, rate=sample_rate))"
      ]
    },
    {
      "cell_type": "markdown",
      "metadata": {
        "id": "L4gkA_DrWJXM"
      },
      "source": [
        "### Apply separation into vocals/accompaniment\n",
        "\n",
        "Even open-unmix does not provide a separate model for the accompaniment, we can use the spectral `residual` model in the post-processing to force a linear sum of all separated sources - e.g. this can be used for vocal/accompaniment separation. Note, that the sepearation performance is decreased when using the residual model."
      ]
    },
    {
      "cell_type": "code",
      "execution_count": null,
      "metadata": {
        "id": "9PPs4Mb8Whu0"
      },
      "outputs": [],
      "source": [
        "estimates = predict.separate(\n",
        "    torch.as_tensor(waveform).float(),\n",
        "    rate=sample_rate,\n",
        "    targets=['vocals'],\n",
        "    residual=True,\n",
        "    device=device,\n",
        ")\n",
        "for target, estimate in estimates.items():\n",
        "    print(target)\n",
        "    display(Audio(estimate.detach().cpu().numpy()[0], rate=track.rate))"
      ]
    },
    {
      "cell_type": "markdown",
      "metadata": {
        "id": "JSo2ElRVYcta"
      },
      "source": [
        "Another way to achive vocal/accompanimnet separation is to sepearate into four stems and sum up the non-vocal stems."
      ]
    },
    {
      "cell_type": "code",
      "execution_count": null,
      "metadata": {
        "id": "U9XNhoVYXTxn"
      },
      "outputs": [],
      "source": [
        "estimates = predict.separate(\n",
        "    audio=torch.as_tensor(track.audio).float(),\n",
        "    rate=track.rate,\n",
        "    targets=['vocals', 'drums', 'bass', 'other'],\n",
        "    residual=True,\n",
        "    device=device\n",
        ")\n",
        "print('vocals')\n",
        "display(Audio(estimates['vocals'].detach().cpu().numpy()[0], rate=track.rate))\n",
        "acc = np.sum(\n",
        "    [audio.detach().cpu().numpy()[0] for target, audio in estimates.items() if not target=='vocals'],\n",
        "    axis=0\n",
        ")\n",
        "print('accompaniment')\n",
        "display(Audio(acc, rate=track.rate))"
      ]
    },
    {
      "cell_type": "markdown",
      "metadata": {
        "id": "dcnlkuT-Euth"
      },
      "source": [
        "# Separate Youtube Video"
      ]
    },
    {
      "cell_type": "code",
      "execution_count": null,
      "metadata": {
        "id": "TfMvyXqKcK1Z"
      },
      "outputs": [],
      "source": [
        "from IPython.display import HTML\n",
        "url = \"xwtdhWltSIg\" #@param {type:\"string\"}\n",
        "start = 60 #@param {type:\"number\"}\n",
        "stop = 90 #@param {type:\"number\"}\n",
        "embed_url = \"https://www.youtube.com/embed/%s?rel=0&start=%d&end=%d&amp;controls=0&amp;showinfo=0\" % (url, start, stop)\n",
        "HTML('<iframe width=\"560\" height=\"315\" src=' + embed_url + 'frameborder=\"0\" allowfullscreen></iframe>')"
      ]
    },
    {
      "cell_type": "code",
      "execution_count": null,
      "metadata": {
        "cellView": "both",
        "id": "Rm03VfJu8M9e"
      },
      "outputs": [],
      "source": [
        "import stempeg\n",
        "\n",
        "def my_hook(d):\n",
        "    if d['status'] == 'finished':\n",
        "        print('Done downloading...')\n",
        "\n",
        "\n",
        "ydl_opts = {\n",
        "    'format': 'bestaudio/best',\n",
        "    'postprocessors': [{\n",
        "        'key': 'FFmpegExtractAudio',\n",
        "        'preferredcodec': 'wav',\n",
        "        'preferredquality': '44100',\n",
        "    }],\n",
        "    'outtmpl': '%(title)s.wav',\n",
        "    'progress_hooks': [my_hook],\n",
        "}\n",
        "with youtube_dl.YoutubeDL(ydl_opts) as ydl:\n",
        "    info = ydl.extract_info(url, download=False)\n",
        "    status = ydl.download([url])\n",
        "\n",
        "audio, samplerate = stempeg.read_stems(\n",
        "    info.get('title', None) + '.wav',\n",
        "    start=start,\n",
        "    duration=(stop-start),\n",
        "    sample_rate=44100.0,\n",
        "    dtype=np.float32\n",
        ")\n",
        "display(Audio(audio.T, rate=samplerate))\n",
        "estimates = predict.separate(\n",
        "    torch.as_tensor(audio).float(),\n",
        "    rate=samplerate,\n",
        "    device=device\n",
        ")\n",
        "for target, estimate in estimates.items():\n",
        "    print(target)\n",
        "    display(Audio(estimate.detach().cpu().numpy()[0], rate=samplerate))"
      ]
    },
    {
      "cell_type": "markdown",
      "metadata": {
        "id": "CEiEjSWQb1BP"
      },
      "source": [
        "Download separations"
      ]
    },
    {
      "cell_type": "code",
      "execution_count": null,
      "metadata": {
        "id": "dvUDAibHbzA5"
      },
      "outputs": [],
      "source": [
        "target_path = str(\"target.mp3\")\n",
        "\n",
        "estimates_numpy = {}\n",
        "for target, estimate in estimates.items():\n",
        "    estimates_numpy[target] = torch.squeeze(estimate).detach().cpu().numpy().T\n",
        "\n",
        "stempeg.write_stems(\n",
        "    target_path,\n",
        "    estimates_numpy,\n",
        "    sample_rate=separator.sample_rate,\n",
        "    writer=stempeg.FilesWriter(multiprocess=True, output_sample_rate=44100),\n",
        ")\n",
        "\n",
        "for target, estimate in estimates.items():\n",
        "    files.download(target + '.mp3')"
      ]
    },
    {
      "cell_type": "markdown",
      "metadata": {
        "id": "6wHnnug6FEPX"
      },
      "source": [
        "# Separate from uploaded file"
      ]
    },
    {
      "cell_type": "code",
      "execution_count": null,
      "metadata": {
        "id": "TMmjLKx0FHMG"
      },
      "outputs": [],
      "source": [
        "from google.colab import files\n",
        "uploaded = files.upload()"
      ]
    },
    {
      "cell_type": "code",
      "execution_count": null,
      "metadata": {
        "id": "4ShoVlZuGRjF"
      },
      "outputs": [],
      "source": [
        "from openunmix import predict\n",
        "\n",
        "start = 0 #@param {type:\"number\"}\n",
        "stop = 120 #@param {type:\"number\"}\n",
        "audio, rate = stempeg.read_stems(\n",
        "    list(uploaded.keys())[0],\n",
        "    sample_rate=44100,\n",
        "    start=start,\n",
        "    duration=stop-start,\n",
        ")\n",
        "display(Audio(audio.T, rate=rate))\n",
        "estimates = predict.separate(\n",
        "    audio=torch.as_tensor(audio).float(),\n",
        "    rate=44100,\n",
        "    device=device,\n",
        ")\n",
        "for target, estimate in estimates.items():\n",
        "    print(target)\n",
        "    display(Audio(estimate.detach().cpu().numpy()[0], rate=rate))"
      ]
    },
    {
      "cell_type": "markdown",
      "metadata": {
        "id": "joW9WhtFao5l"
      },
      "source": [
        "\n",
        "# Export estimates\n",
        "\n",
        "After separation, you can save the results as wav files or STEMs.\n",
        "\n",
        "## Download Separations to disk"
      ]
    },
    {
      "cell_type": "code",
      "execution_count": null,
      "metadata": {
        "id": "LLTkZ5SmSJvW"
      },
      "outputs": [],
      "source": [
        "!sudo apt-get install gpac"
      ]
    },
    {
      "cell_type": "markdown",
      "metadata": {
        "id": "xMduVCUhDou5"
      },
      "source": [
        "## Encode to STEMS format"
      ]
    },
    {
      "cell_type": "code",
      "execution_count": null,
      "metadata": {
        "id": "Fke7MbN3Dtih"
      },
      "outputs": [],
      "source": [
        "import stempeg\n",
        "estimates_numpy = {}\n",
        "for target, estimate in estimates.items():\n",
        "    estimates_numpy[target] = torch.squeeze(estimate).detach().cpu().numpy().T\n",
        "\n",
        "estimates_numpy['mixture'] = audio\n",
        "stempeg.write_stems(\n",
        "    \"umx.stem.m4a\",\n",
        "    estimates_numpy,\n",
        "    sample_rate=44100,\n",
        "    writer=stempeg.NIStemsWriter(),\n",
        ")\n",
        "files.download(\"umx.stem.m4a\")"
      ]
    },
    {
      "cell_type": "markdown",
      "metadata": {
        "id": "f9gfxG0mS9P6"
      },
      "source": []
    }
  ],
  "metadata": {
    "accelerator": "GPU",
    "colab": {
      "provenance": []
    },
    "kernelspec": {
      "display_name": "Python 3",
      "name": "python3"
    }
  },
  "nbformat": 4,
  "nbformat_minor": 0
}