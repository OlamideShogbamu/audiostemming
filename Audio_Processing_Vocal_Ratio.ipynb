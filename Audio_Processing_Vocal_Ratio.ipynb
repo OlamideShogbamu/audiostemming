{
  "nbformat": 4,
  "nbformat_minor": 0,
  "metadata": {
    "colab": {
      "provenance": []
    },
    "kernelspec": {
      "name": "python3",
      "display_name": "Python 3"
    },
    "language_info": {
      "name": "python"
    }
  },
  "cells": [
    {
      "cell_type": "code",
      "source": [
        "!pip install pydub -q\n",
        "!apt-get install ffmpeg -yq"
      ],
      "metadata": {
        "colab": {
          "base_uri": "https://localhost:8080/"
        },
        "id": "A8q3_U2m8ndZ",
        "outputId": "86a68c6c-a093-463c-8b50-36e37b94acb2"
      },
      "execution_count": null,
      "outputs": [
        {
          "output_type": "stream",
          "name": "stdout",
          "text": [
            "Reading package lists... Done\n",
            "Building dependency tree... Done\n",
            "Reading state information... Done\n",
            "ffmpeg is already the newest version (7:4.4.2-0ubuntu0.22.04.1).\n",
            "0 upgraded, 0 newly installed, 0 to remove and 49 not upgraded.\n"
          ]
        }
      ]
    },
    {
      "cell_type": "code",
      "execution_count": null,
      "metadata": {
        "id": "w5NxKbZpnKL_"
      },
      "outputs": [],
      "source": [
        "from google.colab import drive\n",
        "from pydub import AudioSegment\n",
        "import os"
      ]
    },
    {
      "cell_type": "code",
      "source": [
        "#specify folder\n",
        "base_folder_path = '/content/drive/MyDrive/audio_stemming/Demucs/htdemucs'  # Replace with the path to your main folder\n",
        "output_folder = '/content/drive/MyDrive/audio_stemming/Demucs_Output'\n",
        "os.makedirs(output_folder, exist_ok=True)"
      ],
      "metadata": {
        "id": "8o_VuN-0ngn5"
      },
      "execution_count": null,
      "outputs": []
    },
    {
      "cell_type": "code",
      "source": [
        "# Step 4: Find and process each \"vocals\" audio file\n",
        "file_count = 1\n",
        "for folder_name in os.listdir(base_folder_path):\n",
        "    folder_path = os.path.join(base_folder_path, folder_name)\n",
        "    if os.path.isdir(folder_path):\n",
        "        for file_name in os.listdir(folder_path):\n",
        "            if \"vocals.mp3\" == file_name.lower():  # Adjust for case-insensitivity\n",
        "                file_path = os.path.join(folder_path, file_name)\n",
        "\n",
        "                # Step 5: Convert audio to .wav\n",
        "                audio = AudioSegment.from_file(file_path)\n",
        "                output_filename = f'Demucs_vocal_{file_count}.wav'\n",
        "                output_path = os.path.join(output_folder, output_filename)\n",
        "\n",
        "                # Export as .wav\n",
        "                audio.export(output_path, format=\"wav\")\n",
        "                print(f\"Converted and saved: {output_filename}\")\n",
        "\n",
        "                # Increment file count for naming\n",
        "                file_count += 1"
      ],
      "metadata": {
        "colab": {
          "base_uri": "https://localhost:8080/"
        },
        "collapsed": true,
        "id": "OKKLFjLPoK7-",
        "outputId": "b5061347-d519-477d-c5c7-6a4bec9c3655"
      },
      "execution_count": null,
      "outputs": [
        {
          "output_type": "stream",
          "name": "stdout",
          "text": [
            "Converted and saved: Demucs_vocal_1.wav\n",
            "Converted and saved: Demucs_vocal_2.wav\n",
            "Converted and saved: Demucs_vocal_3.wav\n",
            "Converted and saved: Demucs_vocal_4.wav\n",
            "Converted and saved: Demucs_vocal_5.wav\n",
            "Converted and saved: Demucs_vocal_6.wav\n",
            "Converted and saved: Demucs_vocal_7.wav\n",
            "Converted and saved: Demucs_vocal_8.wav\n",
            "Converted and saved: Demucs_vocal_9.wav\n",
            "Converted and saved: Demucs_vocal_10.wav\n",
            "Converted and saved: Demucs_vocal_11.wav\n",
            "Converted and saved: Demucs_vocal_12.wav\n",
            "Converted and saved: Demucs_vocal_13.wav\n",
            "Converted and saved: Demucs_vocal_14.wav\n",
            "Converted and saved: Demucs_vocal_15.wav\n",
            "Converted and saved: Demucs_vocal_16.wav\n",
            "Converted and saved: Demucs_vocal_17.wav\n",
            "Converted and saved: Demucs_vocal_18.wav\n",
            "Converted and saved: Demucs_vocal_19.wav\n",
            "Converted and saved: Demucs_vocal_20.wav\n",
            "Converted and saved: Demucs_vocal_21.wav\n",
            "Converted and saved: Demucs_vocal_22.wav\n",
            "Converted and saved: Demucs_vocal_23.wav\n",
            "Converted and saved: Demucs_vocal_24.wav\n",
            "Converted and saved: Demucs_vocal_25.wav\n",
            "Converted and saved: Demucs_vocal_26.wav\n",
            "Converted and saved: Demucs_vocal_27.wav\n",
            "Converted and saved: Demucs_vocal_28.wav\n",
            "Converted and saved: Demucs_vocal_29.wav\n",
            "Converted and saved: Demucs_vocal_30.wav\n",
            "Converted and saved: Demucs_vocal_31.wav\n",
            "Converted and saved: Demucs_vocal_32.wav\n",
            "Converted and saved: Demucs_vocal_33.wav\n",
            "Converted and saved: Demucs_vocal_34.wav\n",
            "Converted and saved: Demucs_vocal_35.wav\n",
            "Converted and saved: Demucs_vocal_36.wav\n"
          ]
        }
      ]
    },
    {
      "cell_type": "code",
      "source": [
        "# Step 4: Find and process each \"vocals\" audio file\n",
        "file_count = 1\n",
        "for file_name in os.listdir(base_folder_path):\n",
        "    if \"vocals\" in file_name.lower():  # Adjust for case-insensitivity\n",
        "        file_path = os.path.join(base_folder_path, file_name)\n",
        "\n",
        "        # Step 5: Convert audio to .wav\n",
        "        audio = AudioSegment.from_file(file_path)\n",
        "        output_filename = f'Wave_vocal_{file_count}.wav'\n",
        "        output_path = os.path.join(output_folder, output_filename)\n",
        "\n",
        "        # Export as .wav\n",
        "        audio.export(output_path, format=\"wav\")\n",
        "        print(f\"Converted and saved: {output_filename}\")\n",
        "\n",
        "        # Increment file count for naming\n",
        "        file_count += 1"
      ],
      "metadata": {
        "colab": {
          "base_uri": "https://localhost:8080/"
        },
        "collapsed": true,
        "id": "xCwoW7oMoOSq",
        "outputId": "0fad98ee-2703-4d0c-e549-d655b2b0a654"
      },
      "execution_count": null,
      "outputs": [
        {
          "output_type": "stream",
          "name": "stdout",
          "text": [
            "Converted and saved: Wave_vocal_1.wav\n",
            "Converted and saved: Wave_vocal_2.wav\n",
            "Converted and saved: Wave_vocal_3.wav\n",
            "Converted and saved: Wave_vocal_4.wav\n",
            "Converted and saved: Wave_vocal_5.wav\n",
            "Converted and saved: Wave_vocal_6.wav\n",
            "Converted and saved: Wave_vocal_7.wav\n",
            "Converted and saved: Wave_vocal_8.wav\n",
            "Converted and saved: Wave_vocal_9.wav\n",
            "Converted and saved: Wave_vocal_10.wav\n",
            "Converted and saved: Wave_vocal_11.wav\n",
            "Converted and saved: Wave_vocal_12.wav\n",
            "Converted and saved: Wave_vocal_13.wav\n",
            "Converted and saved: Wave_vocal_14.wav\n",
            "Converted and saved: Wave_vocal_15.wav\n",
            "Converted and saved: Wave_vocal_16.wav\n",
            "Converted and saved: Wave_vocal_17.wav\n",
            "Converted and saved: Wave_vocal_18.wav\n",
            "Converted and saved: Wave_vocal_19.wav\n",
            "Converted and saved: Wave_vocal_20.wav\n",
            "Converted and saved: Wave_vocal_21.wav\n",
            "Converted and saved: Wave_vocal_22.wav\n",
            "Converted and saved: Wave_vocal_23.wav\n",
            "Converted and saved: Wave_vocal_24.wav\n",
            "Converted and saved: Wave_vocal_25.wav\n",
            "Converted and saved: Wave_vocal_26.wav\n",
            "Converted and saved: Wave_vocal_27.wav\n",
            "Converted and saved: Wave_vocal_28.wav\n",
            "Converted and saved: Wave_vocal_29.wav\n",
            "Converted and saved: Wave_vocal_30.wav\n",
            "Converted and saved: Wave_vocal_31.wav\n",
            "Converted and saved: Wave_vocal_32.wav\n",
            "Converted and saved: Wave_vocal_33.wav\n",
            "Converted and saved: Wave_vocal_34.wav\n",
            "Converted and saved: Wave_vocal_35.wav\n",
            "Converted and saved: Wave_vocal_36.wav\n"
          ]
        }
      ]
    },
    {
      "cell_type": "markdown",
      "source": [
        "### VOCAL RATIO"
      ],
      "metadata": {
        "id": "TfdRFpMJIn4t"
      }
    },
    {
      "cell_type": "code",
      "source": [
        "# Compute vocal to other sound ratio using harmonic and persurcive energy"
      ],
      "metadata": {
        "id": "uEiNdfsX0Fuj"
      },
      "execution_count": null,
      "outputs": []
    },
    {
      "cell_type": "code",
      "source": [
        "import librosa\n",
        "import numpy as np"
      ],
      "metadata": {
        "id": "uZlW9QU3Ijq9"
      },
      "execution_count": null,
      "outputs": []
    },
    {
      "cell_type": "code",
      "source": [
        "def compute_vocals_to_other_ratio(audio_path):\n",
        "    # Load the audio file\n",
        "    y, sr = librosa.load(audio_path, sr=None)\n",
        "\n",
        "    # Apply Harmonic/Percussive Source Separation\n",
        "    harmonic, percussive = librosa.effects.hpss(y)\n",
        "\n",
        "    # Calculate the energy of the harmonic and percussive components\n",
        "    harmonic_energy = np.sum(harmonic**2)\n",
        "    percussive_energy = np.sum(percussive**2)\n",
        "\n",
        "    # Calculate the total energy (harmonic + percussive)\n",
        "    total_energy = harmonic_energy + percussive_energy\n",
        "\n",
        "    # Calculate the ratio of harmonic energy (likely vocals) to the total energy\n",
        "    vocals_to_other_ratio = harmonic_energy / total_energy\n",
        "\n",
        "    return vocals_to_other_ratio\n"
      ],
      "metadata": {
        "id": "d9TRdcUkIvbc"
      },
      "execution_count": null,
      "outputs": []
    },
    {
      "cell_type": "code",
      "source": [
        "model_dirs = [\n",
        "    \"/content/drive/MyDrive/audio_stemming/Outputs/Demucs_Output\",\n",
        "    \"/content/drive/MyDrive/audio_stemming/Outputs/OpenUnmix_Output\",\n",
        "    \"/content/drive/MyDrive/audio_stemming/Outputs/Spleeter_Output\",\n",
        "    \"/content/drive/MyDrive/audio_stemming/Outputs/WaveUNet_Output\"\n",
        "]"
      ],
      "metadata": {
        "id": "0nxyvH8YJ4hM"
      },
      "execution_count": null,
      "outputs": []
    },
    {
      "cell_type": "code",
      "source": [
        "# Dictionary to store the ratios for each model\n",
        "model_names = [\"Demucs\", \"OpenUnmix\", \"Spleeter\", \"Wave\"]\n",
        "model_ratios = {model: [] for model in model_names}"
      ],
      "metadata": {
        "id": "QBpleaSBKG8P"
      },
      "execution_count": null,
      "outputs": []
    },
    {
      "cell_type": "code",
      "source": [
        "# Loop through each model and calculate the vocals-to-other ratio for each file\n",
        "for model_name, model_dir in zip(model_names, model_dirs):\n",
        "    for i in range(1, 37):  # 36 audio files\n",
        "        audio_file = f\"{model_name}_vocal_{i}.wav\"\n",
        "        audio_path = os.path.join(model_dir, audio_file)\n",
        "        try:\n",
        "            ratio = compute_vocals_to_other_ratio(audio_path)\n",
        "            model_ratios[model_name].append(ratio)\n",
        "        except Exception as e:\n",
        "            print(f\"Error processing {audio_path}: {e}\")"
      ],
      "metadata": {
        "id": "V1m8hLuOKyrx"
      },
      "execution_count": null,
      "outputs": []
    },
    {
      "cell_type": "code",
      "source": [
        "# Print the results for each model\n",
        "for model, ratios in model_ratios.items():\n",
        "    avg_ratio = np.mean(ratios) if ratios else 0\n",
        "    print(f\"{model} - Average Vocals-to-Other Ratio: {avg_ratio:.4f}\")"
      ],
      "metadata": {
        "colab": {
          "base_uri": "https://localhost:8080/"
        },
        "id": "tupd-_VFMxk1",
        "outputId": "262c51fd-2354-4e1e-8831-940c0b16c136"
      },
      "execution_count": null,
      "outputs": [
        {
          "output_type": "stream",
          "name": "stdout",
          "text": [
            "Demucs - Average Vocals-to-Other Ratio: 0.8127\n",
            "OpenUnmix - Average Vocals-to-Other Ratio: 0.8162\n",
            "Spleeter - Average Vocals-to-Other Ratio: 0.8259\n",
            "Wave - Average Vocals-to-Other Ratio: 0.7665\n"
          ]
        }
      ]
    },
    {
      "cell_type": "code",
      "source": [],
      "metadata": {
        "id": "i6IWekgqRuXr"
      },
      "execution_count": null,
      "outputs": []
    }
  ]
}